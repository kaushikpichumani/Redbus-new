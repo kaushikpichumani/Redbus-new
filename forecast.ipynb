{
 "cells": [
  {
   "cell_type": "code",
   "execution_count": 52,
   "id": "f266b25d",
   "metadata": {},
   "outputs": [],
   "source": [
    "import pandas as pd\n",
    "import numpy as np\n",
    "from prophet import Prophet\n",
    "from sklearn.metrics import root_mean_squared_error"
   ]
  },
  {
   "cell_type": "code",
   "execution_count": 47,
   "id": "c9c2e782",
   "metadata": {},
   "outputs": [],
   "source": [
    "# Load the dataset\n",
    "df = pd.read_csv(\"train/train.csv\")\n",
    "\n"
   ]
  },
  {
   "cell_type": "code",
   "execution_count": 48,
   "id": "8bfa0c4f",
   "metadata": {},
   "outputs": [],
   "source": [
    "# Preprocessing\n",
    "df['doj'] = pd.to_datetime(df['doj'])\n",
    "df['month'] = df['doj'].dt.to_period('D').dt.to_timestamp()\n",
    "\n"
   ]
  },
  {
   "cell_type": "code",
   "execution_count": 99,
   "id": "47629f2b",
   "metadata": {},
   "outputs": [],
   "source": [
    "# Aggregate monthly bookings for each source-destination pair\n",
    "agg_df = df.groupby(['srcid', 'destid', 'month'])['final_seatcount'].sum().reset_index()\n",
    "agg_df['srcid'] = agg_df['srcid'].astype(str)\n",
    "agg_df['destid'] = agg_df['destid'].astype(str)\n",
    "agg_df['srcid']=  agg_df['srcid'].str.zfill(2)\n",
    "agg_df['destid'] = agg_df['destid'].str.zfill(2)\n",
    "\n",
    "\n",
    "\n",
    "\n"
   ]
  },
  {
   "cell_type": "code",
   "execution_count": 100,
   "id": "29e23fb4",
   "metadata": {},
   "outputs": [
    {
     "data": {
      "text/html": [
       "<div>\n",
       "<style scoped>\n",
       "    .dataframe tbody tr th:only-of-type {\n",
       "        vertical-align: middle;\n",
       "    }\n",
       "\n",
       "    .dataframe tbody tr th {\n",
       "        vertical-align: top;\n",
       "    }\n",
       "\n",
       "    .dataframe thead th {\n",
       "        text-align: right;\n",
       "    }\n",
       "</style>\n",
       "<table border=\"1\" class=\"dataframe\">\n",
       "  <thead>\n",
       "    <tr style=\"text-align: right;\">\n",
       "      <th></th>\n",
       "      <th>srcid</th>\n",
       "      <th>destid</th>\n",
       "      <th>month</th>\n",
       "      <th>final_seatcount</th>\n",
       "    </tr>\n",
       "  </thead>\n",
       "  <tbody>\n",
       "    <tr>\n",
       "      <th>67195</th>\n",
       "      <td>48</td>\n",
       "      <td>46</td>\n",
       "      <td>2024-12-27</td>\n",
       "      <td>5253.0</td>\n",
       "    </tr>\n",
       "    <tr>\n",
       "      <th>67196</th>\n",
       "      <td>48</td>\n",
       "      <td>46</td>\n",
       "      <td>2024-12-28</td>\n",
       "      <td>5871.0</td>\n",
       "    </tr>\n",
       "    <tr>\n",
       "      <th>67197</th>\n",
       "      <td>48</td>\n",
       "      <td>46</td>\n",
       "      <td>2024-12-29</td>\n",
       "      <td>8091.0</td>\n",
       "    </tr>\n",
       "    <tr>\n",
       "      <th>67198</th>\n",
       "      <td>48</td>\n",
       "      <td>46</td>\n",
       "      <td>2024-12-30</td>\n",
       "      <td>6717.0</td>\n",
       "    </tr>\n",
       "    <tr>\n",
       "      <th>67199</th>\n",
       "      <td>48</td>\n",
       "      <td>46</td>\n",
       "      <td>2024-12-31</td>\n",
       "      <td>5274.0</td>\n",
       "    </tr>\n",
       "  </tbody>\n",
       "</table>\n",
       "</div>"
      ],
      "text/plain": [
       "      srcid destid      month  final_seatcount\n",
       "67195    48     46 2024-12-27           5253.0\n",
       "67196    48     46 2024-12-28           5871.0\n",
       "67197    48     46 2024-12-29           8091.0\n",
       "67198    48     46 2024-12-30           6717.0\n",
       "67199    48     46 2024-12-31           5274.0"
      ]
     },
     "execution_count": 100,
     "metadata": {},
     "output_type": "execute_result"
    }
   ],
   "source": [
    "agg_df.tail()"
   ]
  },
  {
   "cell_type": "markdown",
   "id": "abc6c973",
   "metadata": {},
   "source": [
    "## Baseline FORECAST"
   ]
  },
  {
   "cell_type": "code",
   "execution_count": 101,
   "id": "9c4fb0bf",
   "metadata": {},
   "outputs": [
    {
     "name": "stderr",
     "output_type": "stream",
     "text": [
      "20:42:09 - cmdstanpy - INFO - Chain [1] start processing\n",
      "20:42:09 - cmdstanpy - INFO - Chain [1] done processing\n",
      "20:42:09 - cmdstanpy - INFO - Chain [1] start processing\n",
      "20:42:09 - cmdstanpy - INFO - Chain [1] done processing\n",
      "20:42:09 - cmdstanpy - INFO - Chain [1] start processing\n",
      "20:42:09 - cmdstanpy - INFO - Chain [1] done processing\n",
      "20:42:09 - cmdstanpy - INFO - Chain [1] start processing\n",
      "20:42:09 - cmdstanpy - INFO - Chain [1] done processing\n",
      "20:42:09 - cmdstanpy - INFO - Chain [1] start processing\n",
      "20:42:10 - cmdstanpy - INFO - Chain [1] done processing\n",
      "20:42:10 - cmdstanpy - INFO - Chain [1] start processing\n",
      "20:42:10 - cmdstanpy - INFO - Chain [1] done processing\n",
      "20:42:10 - cmdstanpy - INFO - Chain [1] start processing\n",
      "20:42:10 - cmdstanpy - INFO - Chain [1] done processing\n",
      "20:42:10 - cmdstanpy - INFO - Chain [1] start processing\n",
      "20:42:10 - cmdstanpy - INFO - Chain [1] done processing\n",
      "20:42:10 - cmdstanpy - INFO - Chain [1] start processing\n",
      "20:42:11 - cmdstanpy - INFO - Chain [1] done processing\n",
      "20:42:11 - cmdstanpy - INFO - Chain [1] start processing\n",
      "20:42:11 - cmdstanpy - INFO - Chain [1] done processing\n",
      "20:42:11 - cmdstanpy - INFO - Chain [1] start processing\n",
      "20:42:11 - cmdstanpy - INFO - Chain [1] done processing\n",
      "20:42:11 - cmdstanpy - INFO - Chain [1] start processing\n",
      "20:42:11 - cmdstanpy - INFO - Chain [1] done processing\n",
      "20:42:11 - cmdstanpy - INFO - Chain [1] start processing\n",
      "20:42:12 - cmdstanpy - INFO - Chain [1] done processing\n",
      "20:42:12 - cmdstanpy - INFO - Chain [1] start processing\n",
      "20:42:12 - cmdstanpy - INFO - Chain [1] done processing\n",
      "20:42:12 - cmdstanpy - INFO - Chain [1] start processing\n",
      "20:42:12 - cmdstanpy - INFO - Chain [1] done processing\n",
      "20:42:12 - cmdstanpy - INFO - Chain [1] start processing\n",
      "20:42:12 - cmdstanpy - INFO - Chain [1] done processing\n",
      "20:42:12 - cmdstanpy - INFO - Chain [1] start processing\n",
      "20:42:12 - cmdstanpy - INFO - Chain [1] done processing\n",
      "20:42:13 - cmdstanpy - INFO - Chain [1] start processing\n",
      "20:42:13 - cmdstanpy - INFO - Chain [1] done processing\n",
      "20:42:13 - cmdstanpy - INFO - Chain [1] start processing\n",
      "20:42:13 - cmdstanpy - INFO - Chain [1] done processing\n",
      "20:42:13 - cmdstanpy - INFO - Chain [1] start processing\n",
      "20:42:13 - cmdstanpy - INFO - Chain [1] done processing\n",
      "20:42:13 - cmdstanpy - INFO - Chain [1] start processing\n",
      "20:42:13 - cmdstanpy - INFO - Chain [1] done processing\n",
      "20:42:13 - cmdstanpy - INFO - Chain [1] start processing\n",
      "20:42:13 - cmdstanpy - INFO - Chain [1] done processing\n",
      "20:42:14 - cmdstanpy - INFO - Chain [1] start processing\n",
      "20:42:14 - cmdstanpy - INFO - Chain [1] done processing\n",
      "20:42:14 - cmdstanpy - INFO - Chain [1] start processing\n",
      "20:42:14 - cmdstanpy - INFO - Chain [1] done processing\n",
      "20:42:14 - cmdstanpy - INFO - Chain [1] start processing\n",
      "20:42:14 - cmdstanpy - INFO - Chain [1] done processing\n",
      "20:42:14 - cmdstanpy - INFO - Chain [1] start processing\n",
      "20:42:14 - cmdstanpy - INFO - Chain [1] done processing\n",
      "20:42:14 - cmdstanpy - INFO - Chain [1] start processing\n",
      "20:42:14 - cmdstanpy - INFO - Chain [1] done processing\n",
      "20:42:14 - cmdstanpy - INFO - Chain [1] start processing\n",
      "20:42:15 - cmdstanpy - INFO - Chain [1] done processing\n",
      "20:42:15 - cmdstanpy - INFO - Chain [1] start processing\n",
      "20:42:15 - cmdstanpy - INFO - Chain [1] done processing\n",
      "20:42:15 - cmdstanpy - INFO - Chain [1] start processing\n",
      "20:42:15 - cmdstanpy - INFO - Chain [1] done processing\n",
      "20:42:15 - cmdstanpy - INFO - Chain [1] start processing\n",
      "20:42:15 - cmdstanpy - INFO - Chain [1] done processing\n",
      "20:42:15 - cmdstanpy - INFO - Chain [1] start processing\n",
      "20:42:15 - cmdstanpy - INFO - Chain [1] done processing\n",
      "20:42:16 - cmdstanpy - INFO - Chain [1] start processing\n",
      "20:42:16 - cmdstanpy - INFO - Chain [1] done processing\n",
      "20:42:16 - cmdstanpy - INFO - Chain [1] start processing\n",
      "20:42:16 - cmdstanpy - INFO - Chain [1] done processing\n",
      "20:42:16 - cmdstanpy - INFO - Chain [1] start processing\n",
      "20:42:16 - cmdstanpy - INFO - Chain [1] done processing\n",
      "20:42:16 - cmdstanpy - INFO - Chain [1] start processing\n",
      "20:42:16 - cmdstanpy - INFO - Chain [1] done processing\n",
      "20:42:16 - cmdstanpy - INFO - Chain [1] start processing\n",
      "20:42:16 - cmdstanpy - INFO - Chain [1] done processing\n",
      "20:42:16 - cmdstanpy - INFO - Chain [1] start processing\n",
      "20:42:17 - cmdstanpy - INFO - Chain [1] done processing\n",
      "20:42:17 - cmdstanpy - INFO - Chain [1] start processing\n",
      "20:42:17 - cmdstanpy - INFO - Chain [1] done processing\n",
      "20:42:17 - cmdstanpy - INFO - Chain [1] start processing\n",
      "20:42:17 - cmdstanpy - INFO - Chain [1] done processing\n",
      "20:42:17 - cmdstanpy - INFO - Chain [1] start processing\n",
      "20:42:17 - cmdstanpy - INFO - Chain [1] done processing\n",
      "20:42:17 - cmdstanpy - INFO - Chain [1] start processing\n",
      "20:42:17 - cmdstanpy - INFO - Chain [1] done processing\n",
      "20:42:17 - cmdstanpy - INFO - Chain [1] start processing\n",
      "20:42:18 - cmdstanpy - INFO - Chain [1] done processing\n",
      "20:42:18 - cmdstanpy - INFO - Chain [1] start processing\n",
      "20:42:18 - cmdstanpy - INFO - Chain [1] done processing\n",
      "20:42:18 - cmdstanpy - INFO - Chain [1] start processing\n",
      "20:42:18 - cmdstanpy - INFO - Chain [1] done processing\n",
      "20:42:18 - cmdstanpy - INFO - Chain [1] start processing\n",
      "20:42:18 - cmdstanpy - INFO - Chain [1] done processing\n",
      "20:42:18 - cmdstanpy - INFO - Chain [1] start processing\n",
      "20:42:18 - cmdstanpy - INFO - Chain [1] done processing\n",
      "20:42:18 - cmdstanpy - INFO - Chain [1] start processing\n",
      "20:42:19 - cmdstanpy - INFO - Chain [1] done processing\n",
      "20:42:19 - cmdstanpy - INFO - Chain [1] start processing\n",
      "20:42:19 - cmdstanpy - INFO - Chain [1] done processing\n",
      "20:42:19 - cmdstanpy - INFO - Chain [1] start processing\n",
      "20:42:19 - cmdstanpy - INFO - Chain [1] done processing\n",
      "20:42:19 - cmdstanpy - INFO - Chain [1] start processing\n",
      "20:42:19 - cmdstanpy - INFO - Chain [1] done processing\n",
      "20:42:19 - cmdstanpy - INFO - Chain [1] start processing\n",
      "20:42:19 - cmdstanpy - INFO - Chain [1] done processing\n",
      "20:42:20 - cmdstanpy - INFO - Chain [1] start processing\n",
      "20:42:20 - cmdstanpy - INFO - Chain [1] done processing\n",
      "20:42:20 - cmdstanpy - INFO - Chain [1] start processing\n",
      "20:42:20 - cmdstanpy - INFO - Chain [1] done processing\n",
      "20:42:20 - cmdstanpy - INFO - Chain [1] start processing\n",
      "20:42:20 - cmdstanpy - INFO - Chain [1] done processing\n",
      "20:42:20 - cmdstanpy - INFO - Chain [1] start processing\n",
      "20:42:20 - cmdstanpy - INFO - Chain [1] done processing\n",
      "20:42:20 - cmdstanpy - INFO - Chain [1] start processing\n",
      "20:42:20 - cmdstanpy - INFO - Chain [1] done processing\n",
      "20:42:21 - cmdstanpy - INFO - Chain [1] start processing\n",
      "20:42:21 - cmdstanpy - INFO - Chain [1] done processing\n",
      "20:42:21 - cmdstanpy - INFO - Chain [1] start processing\n",
      "20:42:21 - cmdstanpy - INFO - Chain [1] done processing\n",
      "20:42:21 - cmdstanpy - INFO - Chain [1] start processing\n",
      "20:42:21 - cmdstanpy - INFO - Chain [1] done processing\n",
      "20:42:21 - cmdstanpy - INFO - Chain [1] start processing\n",
      "20:42:21 - cmdstanpy - INFO - Chain [1] done processing\n",
      "20:42:21 - cmdstanpy - INFO - Chain [1] start processing\n",
      "20:42:21 - cmdstanpy - INFO - Chain [1] done processing\n",
      "20:42:22 - cmdstanpy - INFO - Chain [1] start processing\n",
      "20:42:22 - cmdstanpy - INFO - Chain [1] done processing\n",
      "20:42:22 - cmdstanpy - INFO - Chain [1] start processing\n",
      "20:42:22 - cmdstanpy - INFO - Chain [1] done processing\n",
      "20:42:22 - cmdstanpy - INFO - Chain [1] start processing\n",
      "20:42:22 - cmdstanpy - INFO - Chain [1] done processing\n",
      "20:42:22 - cmdstanpy - INFO - Chain [1] start processing\n",
      "20:42:22 - cmdstanpy - INFO - Chain [1] done processing\n",
      "20:42:22 - cmdstanpy - INFO - Chain [1] start processing\n",
      "20:42:22 - cmdstanpy - INFO - Chain [1] done processing\n",
      "20:42:23 - cmdstanpy - INFO - Chain [1] start processing\n",
      "20:42:23 - cmdstanpy - INFO - Chain [1] done processing\n",
      "20:42:23 - cmdstanpy - INFO - Chain [1] start processing\n",
      "20:42:23 - cmdstanpy - INFO - Chain [1] done processing\n",
      "20:42:23 - cmdstanpy - INFO - Chain [1] start processing\n",
      "20:42:23 - cmdstanpy - INFO - Chain [1] done processing\n",
      "20:42:23 - cmdstanpy - INFO - Chain [1] start processing\n",
      "20:42:23 - cmdstanpy - INFO - Chain [1] done processing\n",
      "20:42:24 - cmdstanpy - INFO - Chain [1] start processing\n",
      "20:42:24 - cmdstanpy - INFO - Chain [1] done processing\n",
      "20:42:24 - cmdstanpy - INFO - Chain [1] start processing\n",
      "20:42:24 - cmdstanpy - INFO - Chain [1] done processing\n",
      "20:42:24 - cmdstanpy - INFO - Chain [1] start processing\n",
      "20:42:24 - cmdstanpy - INFO - Chain [1] done processing\n",
      "20:42:24 - cmdstanpy - INFO - Chain [1] start processing\n",
      "20:42:24 - cmdstanpy - INFO - Chain [1] done processing\n",
      "20:42:24 - cmdstanpy - INFO - Chain [1] start processing\n",
      "20:42:25 - cmdstanpy - INFO - Chain [1] done processing\n",
      "20:42:25 - cmdstanpy - INFO - Chain [1] start processing\n",
      "20:42:25 - cmdstanpy - INFO - Chain [1] done processing\n",
      "20:42:25 - cmdstanpy - INFO - Chain [1] start processing\n",
      "20:42:25 - cmdstanpy - INFO - Chain [1] done processing\n",
      "20:42:25 - cmdstanpy - INFO - Chain [1] start processing\n",
      "20:42:25 - cmdstanpy - INFO - Chain [1] done processing\n",
      "20:42:25 - cmdstanpy - INFO - Chain [1] start processing\n",
      "20:42:25 - cmdstanpy - INFO - Chain [1] done processing\n",
      "20:42:25 - cmdstanpy - INFO - Chain [1] start processing\n",
      "20:42:25 - cmdstanpy - INFO - Chain [1] done processing\n",
      "20:42:26 - cmdstanpy - INFO - Chain [1] start processing\n",
      "20:42:26 - cmdstanpy - INFO - Chain [1] done processing\n",
      "20:42:26 - cmdstanpy - INFO - Chain [1] start processing\n",
      "20:42:26 - cmdstanpy - INFO - Chain [1] done processing\n",
      "20:42:26 - cmdstanpy - INFO - Chain [1] start processing\n",
      "20:42:26 - cmdstanpy - INFO - Chain [1] done processing\n",
      "20:42:26 - cmdstanpy - INFO - Chain [1] start processing\n",
      "20:42:26 - cmdstanpy - INFO - Chain [1] done processing\n",
      "20:42:26 - cmdstanpy - INFO - Chain [1] start processing\n",
      "20:42:26 - cmdstanpy - INFO - Chain [1] done processing\n",
      "20:42:27 - cmdstanpy - INFO - Chain [1] start processing\n",
      "20:42:27 - cmdstanpy - INFO - Chain [1] done processing\n",
      "20:42:27 - cmdstanpy - INFO - Chain [1] start processing\n",
      "20:42:27 - cmdstanpy - INFO - Chain [1] done processing\n",
      "20:42:27 - cmdstanpy - INFO - Chain [1] start processing\n",
      "20:42:27 - cmdstanpy - INFO - Chain [1] done processing\n",
      "20:42:27 - cmdstanpy - INFO - Chain [1] start processing\n",
      "20:42:27 - cmdstanpy - INFO - Chain [1] done processing\n",
      "20:42:27 - cmdstanpy - INFO - Chain [1] start processing\n",
      "20:42:27 - cmdstanpy - INFO - Chain [1] done processing\n",
      "20:42:28 - cmdstanpy - INFO - Chain [1] start processing\n",
      "20:42:28 - cmdstanpy - INFO - Chain [1] done processing\n",
      "20:42:28 - cmdstanpy - INFO - Chain [1] start processing\n",
      "20:42:28 - cmdstanpy - INFO - Chain [1] done processing\n",
      "20:42:28 - cmdstanpy - INFO - Chain [1] start processing\n",
      "20:42:28 - cmdstanpy - INFO - Chain [1] done processing\n",
      "20:42:28 - cmdstanpy - INFO - Chain [1] start processing\n",
      "20:42:28 - cmdstanpy - INFO - Chain [1] done processing\n",
      "20:42:28 - cmdstanpy - INFO - Chain [1] start processing\n",
      "20:42:28 - cmdstanpy - INFO - Chain [1] done processing\n",
      "20:42:29 - cmdstanpy - INFO - Chain [1] start processing\n",
      "20:42:29 - cmdstanpy - INFO - Chain [1] done processing\n",
      "20:42:29 - cmdstanpy - INFO - Chain [1] start processing\n",
      "20:42:29 - cmdstanpy - INFO - Chain [1] done processing\n",
      "20:42:29 - cmdstanpy - INFO - Chain [1] start processing\n",
      "20:42:29 - cmdstanpy - INFO - Chain [1] done processing\n",
      "20:42:29 - cmdstanpy - INFO - Chain [1] start processing\n",
      "20:42:29 - cmdstanpy - INFO - Chain [1] done processing\n"
     ]
    }
   ],
   "source": [
    "# Forecasting next month for each pair\n",
    "results = []\n",
    "#accuracy_val = []\n",
    "for (src, dst), group in agg_df.groupby(['srcid', 'destid']):\n",
    "    data = group.rename(columns={'month': 'ds', 'final_seatcount': 'y'})\n",
    "\n",
    "    \n",
    "    #data_1 = data[ data[\"ds\"] < '2024-12-01']\n",
    "    model = Prophet()\n",
    "    model.fit(data)\n",
    "    \n",
    "    future = model.make_future_dataframe(periods=60, freq='D')\n",
    "    \n",
    "    forecast = model.predict(future)\n",
    "    forecast[\"srcid\"]=src\n",
    "    forecast[\"destid\"]=dst\n",
    "    forecast=forecast[[\"srcid\",\"destid\",\"ds\",\"yhat\"]]\n",
    "    forecast[\"yhat\"] = forecast.yhat.round()\n",
    "    #accurracy = root_mean_squared_error(data[data[\"ds\"]>=\"2024-12-01\"][\"y\"],forecast[forecast[\"ds\"]>=\"2024-12-01\"][\"yhat\"])\n",
    "    #forecast.to_csv(\"monthly_trial_forecast.csv\", index=False)\n",
    "\n",
    "    #accuracy_val.append([src,dst,accurracy])\n",
    "    results.append(forecast)\n",
    "\n",
    "# Save result\n",
    "appended_data = pd.concat(results)\n",
    "\n",
    "\n",
    "#acc = pd.DataFrame(accuracy_val,columns=[\"src\",\"dest\",\"accuracy\"])\n",
    "appended_data.to_csv(\"monthly_forecast_by_route.csv\", index=False)\n",
    "#acc.to_csv(\"accurracy.csv\",index=False)\n",
    "\n",
    "\n",
    "\n"
   ]
  },
  {
   "cell_type": "code",
   "execution_count": 102,
   "id": "f131da68",
   "metadata": {},
   "outputs": [
    {
     "data": {
      "text/html": [
       "<div>\n",
       "<style scoped>\n",
       "    .dataframe tbody tr th:only-of-type {\n",
       "        vertical-align: middle;\n",
       "    }\n",
       "\n",
       "    .dataframe tbody tr th {\n",
       "        vertical-align: top;\n",
       "    }\n",
       "\n",
       "    .dataframe thead th {\n",
       "        text-align: right;\n",
       "    }\n",
       "</style>\n",
       "<table border=\"1\" class=\"dataframe\">\n",
       "  <thead>\n",
       "    <tr style=\"text-align: right;\">\n",
       "      <th></th>\n",
       "      <th>srcid</th>\n",
       "      <th>destid</th>\n",
       "      <th>ds</th>\n",
       "      <th>yhat</th>\n",
       "    </tr>\n",
       "  </thead>\n",
       "  <tbody>\n",
       "    <tr>\n",
       "      <th>0</th>\n",
       "      <td>01</td>\n",
       "      <td>02</td>\n",
       "      <td>2023-03-01</td>\n",
       "      <td>1084.0</td>\n",
       "    </tr>\n",
       "    <tr>\n",
       "      <th>1</th>\n",
       "      <td>01</td>\n",
       "      <td>02</td>\n",
       "      <td>2023-03-02</td>\n",
       "      <td>1036.0</td>\n",
       "    </tr>\n",
       "    <tr>\n",
       "      <th>2</th>\n",
       "      <td>01</td>\n",
       "      <td>02</td>\n",
       "      <td>2023-03-03</td>\n",
       "      <td>1154.0</td>\n",
       "    </tr>\n",
       "    <tr>\n",
       "      <th>3</th>\n",
       "      <td>01</td>\n",
       "      <td>02</td>\n",
       "      <td>2023-03-04</td>\n",
       "      <td>1161.0</td>\n",
       "    </tr>\n",
       "    <tr>\n",
       "      <th>4</th>\n",
       "      <td>01</td>\n",
       "      <td>02</td>\n",
       "      <td>2023-03-05</td>\n",
       "      <td>1455.0</td>\n",
       "    </tr>\n",
       "  </tbody>\n",
       "</table>\n",
       "</div>"
      ],
      "text/plain": [
       "  srcid destid         ds    yhat\n",
       "0    01     02 2023-03-01  1084.0\n",
       "1    01     02 2023-03-02  1036.0\n",
       "2    01     02 2023-03-03  1154.0\n",
       "3    01     02 2023-03-04  1161.0\n",
       "4    01     02 2023-03-05  1455.0"
      ]
     },
     "execution_count": 102,
     "metadata": {},
     "output_type": "execute_result"
    }
   ],
   "source": [
    "appended_data.head()"
   ]
  },
  {
   "cell_type": "code",
   "execution_count": null,
   "id": "5deaab67",
   "metadata": {},
   "outputs": [],
   "source": [
    "final_submission = appended_data[appended_data[\"ds\"]>\"2024-12-31\"]\n",
    "final_submission = final_submission[final_submission[\"ds\"]< \"2025-03-01\"]\n",
    "final_submission[\"route_key\"] = final_submission['ds'].astype(str)+\"_\"+final_submission[\"srcid\"].astype(str)+\"_\"+final_submission[\"destid\"].astype(str)\n",
    "final_submission = final_submission[[\"route_key\",\"yhat\"]]\n",
    "final_submission = final_submission.rename({\"yhat\":\"final_seatcount\"},axis=1)\n",
    "final_submission.to_csv(\"final_submission.csv\")"
   ]
  },
  {
   "cell_type": "markdown",
   "id": "fa4a9f61",
   "metadata": {},
   "source": [
    "## Different Model "
   ]
  },
  {
   "cell_type": "code",
   "execution_count": null,
   "id": "d4009b45",
   "metadata": {},
   "outputs": [],
   "source": [
    "# Preprocessing\n",
    "df['doj'] = pd.to_datetime(df['doj'])\n",
    "df['month'] = df['doj'].dt.to_period('D').dt.to_timestamp()"
   ]
  },
  {
   "cell_type": "code",
   "execution_count": null,
   "id": "a4a30793",
   "metadata": {},
   "outputs": [],
   "source": [
    "# Forecasting next month for each pair\n",
    "results = []\n",
    "#accuracy_val = []\n",
    "for (src, dst), group in agg_df.groupby(['srcid', 'destid']):\n",
    "    data = group.rename(columns={'month': 'ds', 'final_seatcount': 'y'})\n",
    "\n",
    "    \n",
    "    #data_1 = data[ data[\"ds\"] < '2024-12-01']\n",
    "    model = Prophet()\n",
    "    model.fit(data)\n",
    "    \n",
    "    future = model.make_future_dataframe(periods=60, freq='D')\n",
    "    \n",
    "    forecast = model.predict(future)\n",
    "    forecast[\"srcid\"]=src\n",
    "    forecast[\"destid\"]=dst\n",
    "    forecast=forecast[[\"srcid\",\"destid\",\"ds\",\"yhat\"]]\n",
    "    forecast[\"yhat\"] = forecast.yhat.round()\n",
    "    #accurracy = root_mean_squared_error(data[data[\"ds\"]>=\"2024-12-01\"][\"y\"],forecast[forecast[\"ds\"]>=\"2024-12-01\"][\"yhat\"])\n",
    "    #forecast.to_csv(\"monthly_trial_forecast.csv\", index=False)\n",
    "\n",
    "    #accuracy_val.append([src,dst,accurracy])\n",
    "    results.append(forecast)\n",
    "\n",
    "# Save result\n",
    "appended_data = pd.concat(results)\n",
    "\n",
    "\n",
    "#acc = pd.DataFrame(accuracy_val,columns=[\"src\",\"dest\",\"accuracy\"])\n",
    "appended_data.to_csv(\"monthly_forecast_by_route.csv\", index=False)\n",
    "#acc.to_csv(\"accurracy.csv\",index=False)\n",
    "\n",
    "\n",
    "\n"
   ]
  },
  {
   "cell_type": "markdown",
   "id": "f2dc3d27",
   "metadata": {},
   "source": [
    "## Aggregated Total Forecast"
   ]
  },
  {
   "cell_type": "code",
   "execution_count": 122,
   "id": "01dbec12",
   "metadata": {},
   "outputs": [
    {
     "name": "stderr",
     "output_type": "stream",
     "text": [
      "21:22:26 - cmdstanpy - INFO - Chain [1] start processing\n",
      "21:22:26 - cmdstanpy - INFO - Chain [1] done processing\n"
     ]
    }
   ],
   "source": [
    "# Aggregate monthly bookings for each source-destination pair\n",
    "agg_df_1 = df.groupby(['month'])['final_seatcount'].sum().reset_index()\n",
    "data = agg_df_1.rename(columns={'month': 'ds', 'final_seatcount': 'y'})\n",
    "model = Prophet()\n",
    "model.fit(data)\n",
    "future = model.make_future_dataframe(periods=60, freq='D')\n",
    "forecast = model.predict(future)\n",
    "forecast=forecast[[\"ds\",\"yhat\"]]\n",
    "forecast[\"yhat\"] = forecast.yhat.round()\n",
    "final_total_forecast = forecast\n"
   ]
  },
  {
   "cell_type": "code",
   "execution_count": 136,
   "id": "e5525d53",
   "metadata": {},
   "outputs": [],
   "source": [
    "total_df = agg_df_1.rename(columns={\"month\":\"ds\",\"final_seatcount\":\"total\"})"
   ]
  },
  {
   "cell_type": "code",
   "execution_count": 137,
   "id": "8315d89b",
   "metadata": {},
   "outputs": [
    {
     "data": {
      "text/html": [
       "<div>\n",
       "<style scoped>\n",
       "    .dataframe tbody tr th:only-of-type {\n",
       "        vertical-align: middle;\n",
       "    }\n",
       "\n",
       "    .dataframe tbody tr th {\n",
       "        vertical-align: top;\n",
       "    }\n",
       "\n",
       "    .dataframe thead th {\n",
       "        text-align: right;\n",
       "    }\n",
       "</style>\n",
       "<table border=\"1\" class=\"dataframe\">\n",
       "  <thead>\n",
       "    <tr style=\"text-align: right;\">\n",
       "      <th></th>\n",
       "      <th>ds</th>\n",
       "      <th>total</th>\n",
       "    </tr>\n",
       "  </thead>\n",
       "  <tbody>\n",
       "    <tr>\n",
       "      <th>0</th>\n",
       "      <td>2023-03-01</td>\n",
       "      <td>137998.0</td>\n",
       "    </tr>\n",
       "    <tr>\n",
       "      <th>1</th>\n",
       "      <td>2023-03-02</td>\n",
       "      <td>149623.0</td>\n",
       "    </tr>\n",
       "    <tr>\n",
       "      <th>2</th>\n",
       "      <td>2023-03-03</td>\n",
       "      <td>198612.0</td>\n",
       "    </tr>\n",
       "    <tr>\n",
       "      <th>3</th>\n",
       "      <td>2023-03-04</td>\n",
       "      <td>186701.0</td>\n",
       "    </tr>\n",
       "    <tr>\n",
       "      <th>4</th>\n",
       "      <td>2023-03-05</td>\n",
       "      <td>205421.0</td>\n",
       "    </tr>\n",
       "  </tbody>\n",
       "</table>\n",
       "</div>"
      ],
      "text/plain": [
       "          ds     total\n",
       "0 2023-03-01  137998.0\n",
       "1 2023-03-02  149623.0\n",
       "2 2023-03-03  198612.0\n",
       "3 2023-03-04  186701.0\n",
       "4 2023-03-05  205421.0"
      ]
     },
     "execution_count": 137,
     "metadata": {},
     "output_type": "execute_result"
    }
   ],
   "source": [
    "total_df.head()"
   ]
  },
  {
   "cell_type": "code",
   "execution_count": 145,
   "id": "3680868f",
   "metadata": {},
   "outputs": [
    {
     "name": "stderr",
     "output_type": "stream",
     "text": [
      "21:31:53 - cmdstanpy - INFO - Chain [1] start processing\n",
      "21:31:53 - cmdstanpy - INFO - Chain [1] done processing\n"
     ]
    },
    {
     "name": "stdout",
     "output_type": "stream",
     "text": [
      "0      0.008080\n",
      "1      0.006951\n",
      "2      0.004708\n",
      "3      0.006267\n",
      "4      0.007205\n",
      "         ...   \n",
      "667    0.005964\n",
      "668    0.005224\n",
      "669    0.005717\n",
      "670    0.006545\n",
      "671    0.007840\n",
      "Name: proportion, Length: 672, dtype: float64\n"
     ]
    },
    {
     "name": "stderr",
     "output_type": "stream",
     "text": [
      "21:31:53 - cmdstanpy - INFO - Chain [1] start processing\n",
      "21:31:53 - cmdstanpy - INFO - Chain [1] done processing\n"
     ]
    },
    {
     "name": "stdout",
     "output_type": "stream",
     "text": [
      "0      0.006594\n",
      "1      0.010125\n",
      "2      0.008358\n",
      "3      0.007900\n",
      "4      0.006694\n",
      "         ...   \n",
      "667    0.006644\n",
      "668    0.005966\n",
      "669    0.005249\n",
      "670    0.005559\n",
      "671    0.005951\n",
      "Name: proportion, Length: 672, dtype: float64\n",
      "0      0.007899\n",
      "1      0.007485\n",
      "2      0.009038\n",
      "3      0.010525\n",
      "4      0.005866\n",
      "         ...   \n",
      "667    0.006933\n",
      "668    0.006948\n",
      "669    0.004405\n",
      "670    0.004183\n",
      "671    0.008011\n",
      "Name: proportion, Length: 672, dtype: float64\n"
     ]
    },
    {
     "name": "stderr",
     "output_type": "stream",
     "text": [
      "21:31:53 - cmdstanpy - INFO - Chain [1] start processing\n",
      "21:31:53 - cmdstanpy - INFO - Chain [1] done processing\n",
      "21:31:53 - cmdstanpy - INFO - Chain [1] start processing\n",
      "21:31:53 - cmdstanpy - INFO - Chain [1] done processing\n"
     ]
    },
    {
     "name": "stdout",
     "output_type": "stream",
     "text": [
      "0      0.010109\n",
      "1      0.007719\n",
      "2      0.010448\n",
      "3      0.008061\n",
      "4      0.008689\n",
      "         ...   \n",
      "667    0.009278\n",
      "668    0.007155\n",
      "669    0.006311\n",
      "670    0.006824\n",
      "671    0.007897\n",
      "Name: proportion, Length: 672, dtype: float64\n",
      "0      0.011196\n",
      "1      0.012398\n",
      "2      0.012839\n",
      "3      0.010927\n",
      "4      0.007448\n",
      "         ...   \n",
      "667    0.010773\n",
      "668    0.009362\n",
      "669    0.007498\n",
      "670    0.006656\n",
      "671    0.007324\n",
      "Name: proportion, Length: 672, dtype: float64\n"
     ]
    },
    {
     "name": "stderr",
     "output_type": "stream",
     "text": [
      "21:31:53 - cmdstanpy - INFO - Chain [1] start processing\n",
      "21:31:53 - cmdstanpy - INFO - Chain [1] done processing\n",
      "21:31:54 - cmdstanpy - INFO - Chain [1] start processing\n",
      "21:31:54 - cmdstanpy - INFO - Chain [1] done processing\n"
     ]
    },
    {
     "name": "stdout",
     "output_type": "stream",
     "text": [
      "0      0.007645\n",
      "1      0.007252\n",
      "2      0.008761\n",
      "3      0.009159\n",
      "4      0.007083\n",
      "         ...   \n",
      "667    0.009040\n",
      "668    0.008207\n",
      "669    0.005795\n",
      "670    0.004351\n",
      "671    0.005579\n",
      "Name: proportion, Length: 672, dtype: float64\n"
     ]
    },
    {
     "name": "stderr",
     "output_type": "stream",
     "text": [
      "21:31:54 - cmdstanpy - INFO - Chain [1] start processing\n",
      "21:31:54 - cmdstanpy - INFO - Chain [1] done processing\n"
     ]
    },
    {
     "name": "stdout",
     "output_type": "stream",
     "text": [
      "0      0.006775\n",
      "1      0.007886\n",
      "2      0.008937\n",
      "3      0.007284\n",
      "4      0.006694\n",
      "         ...   \n",
      "667    0.006338\n",
      "668    0.005776\n",
      "669    0.004717\n",
      "670    0.004704\n",
      "671    0.004578\n",
      "Name: proportion, Length: 672, dtype: float64\n"
     ]
    },
    {
     "name": "stderr",
     "output_type": "stream",
     "text": [
      "21:31:54 - cmdstanpy - INFO - Chain [1] start processing\n",
      "21:31:54 - cmdstanpy - INFO - Chain [1] done processing\n"
     ]
    },
    {
     "name": "stdout",
     "output_type": "stream",
     "text": [
      "0      0.014319\n",
      "1      0.013233\n",
      "2      0.017280\n",
      "3      0.021339\n",
      "4      0.017739\n",
      "         ...   \n",
      "667    0.011120\n",
      "668    0.011476\n",
      "669    0.013459\n",
      "670    0.011572\n",
      "671    0.013321\n",
      "Name: proportion, Length: 672, dtype: float64\n"
     ]
    },
    {
     "name": "stderr",
     "output_type": "stream",
     "text": [
      "21:31:55 - cmdstanpy - INFO - Chain [1] start processing\n",
      "21:31:55 - cmdstanpy - INFO - Chain [1] done processing\n"
     ]
    },
    {
     "name": "stdout",
     "output_type": "stream",
     "text": [
      "0      0.013913\n",
      "1      0.012699\n",
      "2      0.020361\n",
      "3      0.012576\n",
      "4      0.009249\n",
      "         ...   \n",
      "667    0.015103\n",
      "668    0.011379\n",
      "669    0.010097\n",
      "670    0.009312\n",
      "671    0.007118\n",
      "Name: proportion, Length: 672, dtype: float64\n"
     ]
    },
    {
     "name": "stderr",
     "output_type": "stream",
     "text": [
      "21:31:55 - cmdstanpy - INFO - Chain [1] start processing\n",
      "21:31:55 - cmdstanpy - INFO - Chain [1] done processing\n"
     ]
    },
    {
     "name": "stdout",
     "output_type": "stream",
     "text": [
      "0      0.010406\n",
      "1      0.012244\n",
      "2      0.016072\n",
      "3      0.016004\n",
      "4      0.011839\n",
      "         ...   \n",
      "667    0.013920\n",
      "668    0.011779\n",
      "669    0.010235\n",
      "670    0.010873\n",
      "671    0.007622\n",
      "Name: proportion, Length: 672, dtype: float64\n"
     ]
    },
    {
     "name": "stderr",
     "output_type": "stream",
     "text": [
      "21:31:55 - cmdstanpy - INFO - Chain [1] start processing\n",
      "21:31:55 - cmdstanpy - INFO - Chain [1] done processing\n"
     ]
    },
    {
     "name": "stdout",
     "output_type": "stream",
     "text": [
      "0      0.010761\n",
      "1      0.008455\n",
      "2      0.011480\n",
      "3      0.008007\n",
      "4      0.007545\n",
      "         ...   \n",
      "667    0.010111\n",
      "668    0.010638\n",
      "669    0.009622\n",
      "670    0.007716\n",
      "671    0.006294\n",
      "Name: proportion, Length: 672, dtype: float64\n"
     ]
    },
    {
     "name": "stderr",
     "output_type": "stream",
     "text": [
      "21:31:55 - cmdstanpy - INFO - Chain [1] start processing\n",
      "21:31:55 - cmdstanpy - INFO - Chain [1] done processing\n"
     ]
    },
    {
     "name": "stdout",
     "output_type": "stream",
     "text": [
      "0      0.009536\n",
      "1      0.007967\n",
      "2      0.005055\n",
      "3      0.007049\n",
      "4      0.008276\n",
      "         ...   \n",
      "667    0.004037\n",
      "668    0.005628\n",
      "669    0.006323\n",
      "670    0.006054\n",
      "671    0.005310\n",
      "Name: proportion, Length: 672, dtype: float64\n"
     ]
    },
    {
     "name": "stderr",
     "output_type": "stream",
     "text": [
      "21:31:56 - cmdstanpy - INFO - Chain [1] start processing\n",
      "21:31:56 - cmdstanpy - INFO - Chain [1] done processing\n"
     ]
    },
    {
     "name": "stdout",
     "output_type": "stream",
     "text": [
      "0      0.008370\n",
      "1      0.007018\n",
      "2      0.004053\n",
      "3      0.006481\n",
      "4      0.008008\n",
      "         ...   \n",
      "667    0.004843\n",
      "668    0.005741\n",
      "669    0.007279\n",
      "670    0.005764\n",
      "671    0.003662\n",
      "Name: proportion, Length: 672, dtype: float64\n"
     ]
    },
    {
     "name": "stderr",
     "output_type": "stream",
     "text": [
      "21:31:56 - cmdstanpy - INFO - Chain [1] start processing\n",
      "21:31:56 - cmdstanpy - INFO - Chain [1] done processing\n"
     ]
    },
    {
     "name": "stdout",
     "output_type": "stream",
     "text": [
      "0      0.007029\n",
      "1      0.004846\n",
      "2      0.004985\n",
      "3      0.006374\n",
      "4      0.005063\n",
      "         ...   \n",
      "667    0.005336\n",
      "668    0.007621\n",
      "669    0.004733\n",
      "670    0.005206\n",
      "671    0.006266\n",
      "Name: proportion, Length: 672, dtype: float64\n"
     ]
    },
    {
     "name": "stderr",
     "output_type": "stream",
     "text": [
      "21:31:56 - cmdstanpy - INFO - Chain [1] start processing\n",
      "21:31:56 - cmdstanpy - INFO - Chain [1] done processing\n"
     ]
    },
    {
     "name": "stdout",
     "output_type": "stream",
     "text": [
      "0      0.008732\n",
      "1      0.006049\n",
      "2      0.005639\n",
      "3      0.007686\n",
      "4      0.011148\n",
      "         ...   \n",
      "667    0.005251\n",
      "668    0.007086\n",
      "669    0.009497\n",
      "670    0.007493\n",
      "671    0.007267\n",
      "Name: proportion, Length: 672, dtype: float64\n"
     ]
    },
    {
     "name": "stderr",
     "output_type": "stream",
     "text": [
      "21:31:56 - cmdstanpy - INFO - Chain [1] start processing\n",
      "21:31:56 - cmdstanpy - INFO - Chain [1] done processing\n"
     ]
    },
    {
     "name": "stdout",
     "output_type": "stream",
     "text": [
      "0      0.009652\n",
      "1      0.009143\n",
      "2      0.006978\n",
      "3      0.007054\n",
      "4      0.013144\n",
      "         ...   \n",
      "667    0.010889\n",
      "668    0.009579\n",
      "669    0.016439\n",
      "670    0.009583\n",
      "671    0.008257\n",
      "Name: proportion, Length: 672, dtype: float64\n"
     ]
    },
    {
     "name": "stderr",
     "output_type": "stream",
     "text": [
      "21:31:57 - cmdstanpy - INFO - Chain [1] start processing\n",
      "21:31:57 - cmdstanpy - INFO - Chain [1] done processing\n"
     ]
    },
    {
     "name": "stdout",
     "output_type": "stream",
     "text": [
      "0      0.007826\n",
      "1      0.005848\n",
      "2      0.004985\n",
      "3      0.005276\n",
      "4      0.007521\n",
      "         ...   \n",
      "667    0.005081\n",
      "668    0.005362\n",
      "669    0.007014\n",
      "670    0.004239\n",
      "671    0.003462\n",
      "Name: proportion, Length: 672, dtype: float64\n"
     ]
    },
    {
     "name": "stderr",
     "output_type": "stream",
     "text": [
      "21:31:57 - cmdstanpy - INFO - Chain [1] start processing\n",
      "21:31:57 - cmdstanpy - INFO - Chain [1] done processing\n"
     ]
    },
    {
     "name": "stdout",
     "output_type": "stream",
     "text": [
      "0      0.004928\n",
      "1      0.004678\n",
      "2      0.006606\n",
      "3      0.007413\n",
      "4      0.007088\n",
      "         ...   \n",
      "667    0.012670\n",
      "668    0.014262\n",
      "669    0.017595\n",
      "670    0.015202\n",
      "671    0.019730\n",
      "Name: proportion, Length: 672, dtype: float64\n"
     ]
    },
    {
     "name": "stderr",
     "output_type": "stream",
     "text": [
      "21:31:57 - cmdstanpy - INFO - Chain [1] start processing\n",
      "21:31:57 - cmdstanpy - INFO - Chain [1] done processing\n"
     ]
    },
    {
     "name": "stdout",
     "output_type": "stream",
     "text": [
      "0      0.006594\n",
      "1      0.005681\n",
      "2      0.004808\n",
      "3      0.005945\n",
      "4      0.011002\n",
      "         ...   \n",
      "667    0.005353\n",
      "668    0.004897\n",
      "669    0.009169\n",
      "670    0.006173\n",
      "671    0.003519\n",
      "Name: proportion, Length: 672, dtype: float64\n"
     ]
    },
    {
     "name": "stderr",
     "output_type": "stream",
     "text": [
      "21:31:57 - cmdstanpy - INFO - Chain [1] start processing\n",
      "21:31:57 - cmdstanpy - INFO - Chain [1] done processing\n"
     ]
    },
    {
     "name": "stdout",
     "output_type": "stream",
     "text": [
      "0      0.015848\n",
      "1      0.012391\n",
      "2      0.014531\n",
      "3      0.012871\n",
      "4      0.019891\n",
      "         ...   \n",
      "667    0.011572\n",
      "668    0.013335\n",
      "669    0.015811\n",
      "670    0.019378\n",
      "671    0.018351\n",
      "Name: proportion, Length: 672, dtype: float64\n"
     ]
    },
    {
     "name": "stderr",
     "output_type": "stream",
     "text": [
      "21:31:58 - cmdstanpy - INFO - Chain [1] start processing\n",
      "21:31:58 - cmdstanpy - INFO - Chain [1] done processing\n"
     ]
    },
    {
     "name": "stdout",
     "output_type": "stream",
     "text": [
      "0      0.023718\n",
      "1      0.020933\n",
      "2      0.023095\n",
      "3      0.023155\n",
      "4      0.034305\n",
      "         ...   \n",
      "667    0.019626\n",
      "668    0.020824\n",
      "669    0.027105\n",
      "670    0.027433\n",
      "671    0.024497\n",
      "Name: proportion, Length: 672, dtype: float64\n"
     ]
    },
    {
     "name": "stderr",
     "output_type": "stream",
     "text": [
      "21:31:58 - cmdstanpy - INFO - Chain [1] start processing\n",
      "21:31:58 - cmdstanpy - INFO - Chain [1] done processing\n"
     ]
    },
    {
     "name": "stdout",
     "output_type": "stream",
     "text": [
      "0      0.009333\n",
      "1      0.010319\n",
      "2      0.008781\n",
      "3      0.008548\n",
      "4      0.005355\n",
      "         ...   \n",
      "667    0.008687\n",
      "668    0.009338\n",
      "669    0.009797\n",
      "670    0.010412\n",
      "671    0.009316\n",
      "Name: proportion, Length: 672, dtype: float64\n"
     ]
    },
    {
     "name": "stderr",
     "output_type": "stream",
     "text": [
      "21:31:58 - cmdstanpy - INFO - Chain [1] start processing\n",
      "21:31:58 - cmdstanpy - INFO - Chain [1] done processing\n"
     ]
    },
    {
     "name": "stdout",
     "output_type": "stream",
     "text": [
      "0      0.008174\n",
      "1      0.008582\n",
      "2      0.009848\n",
      "3      0.013455\n",
      "4      0.013105\n",
      "         ...   \n",
      "667    0.010032\n",
      "668    0.012262\n",
      "669    0.015396\n",
      "670    0.014146\n",
      "671    0.011673\n",
      "Name: proportion, Length: 672, dtype: float64\n"
     ]
    },
    {
     "name": "stderr",
     "output_type": "stream",
     "text": [
      "21:31:58 - cmdstanpy - INFO - Chain [1] start processing\n",
      "21:31:58 - cmdstanpy - INFO - Chain [1] done processing\n"
     ]
    },
    {
     "name": "stdout",
     "output_type": "stream",
     "text": [
      "0      0.009826\n",
      "1      0.008902\n",
      "2      0.010392\n",
      "3      0.012876\n",
      "4      0.012813\n",
      "         ...   \n",
      "667    0.009856\n",
      "668    0.008786\n",
      "669    0.011597\n",
      "670    0.012673\n",
      "671    0.013917\n",
      "Name: proportion, Length: 672, dtype: float64\n"
     ]
    },
    {
     "name": "stderr",
     "output_type": "stream",
     "text": [
      "21:31:59 - cmdstanpy - INFO - Chain [1] start processing\n",
      "21:31:59 - cmdstanpy - INFO - Chain [1] done processing\n"
     ]
    },
    {
     "name": "stdout",
     "output_type": "stream",
     "text": [
      "0      0.010797\n",
      "1      0.009892\n",
      "2      0.006294\n",
      "3      0.008597\n",
      "4      0.009128\n",
      "         ...   \n",
      "667    0.006831\n",
      "668    0.008328\n",
      "669    0.011294\n",
      "670    0.009297\n",
      "671    0.009499\n",
      "Name: proportion, Length: 672, dtype: float64\n"
     ]
    },
    {
     "name": "stderr",
     "output_type": "stream",
     "text": [
      "21:31:59 - cmdstanpy - INFO - Chain [1] start processing\n",
      "21:31:59 - cmdstanpy - INFO - Chain [1] done processing\n"
     ]
    },
    {
     "name": "stdout",
     "output_type": "stream",
     "text": [
      "0      0.008000\n",
      "1      0.006336\n",
      "2      0.004270\n",
      "3      0.007391\n",
      "4      0.009035\n",
      "         ...   \n",
      "667    0.008102\n",
      "668    0.009228\n",
      "669    0.012397\n",
      "670    0.009907\n",
      "671    0.012429\n",
      "Name: proportion, Length: 672, dtype: float64\n"
     ]
    },
    {
     "name": "stderr",
     "output_type": "stream",
     "text": [
      "21:31:59 - cmdstanpy - INFO - Chain [1] start processing\n",
      "21:31:59 - cmdstanpy - INFO - Chain [1] done processing\n"
     ]
    },
    {
     "name": "stdout",
     "output_type": "stream",
     "text": [
      "0      0.007102\n",
      "1      0.007753\n",
      "2      0.006445\n",
      "3      0.008677\n",
      "4      0.008495\n",
      "         ...   \n",
      "667    0.005964\n",
      "668    0.007207\n",
      "669    0.008591\n",
      "670    0.007679\n",
      "671    0.008755\n",
      "Name: proportion, Length: 672, dtype: float64\n"
     ]
    },
    {
     "name": "stderr",
     "output_type": "stream",
     "text": [
      "21:32:00 - cmdstanpy - INFO - Chain [1] start processing\n",
      "21:32:00 - cmdstanpy - INFO - Chain [1] done processing\n"
     ]
    },
    {
     "name": "stdout",
     "output_type": "stream",
     "text": [
      "0      0.007609\n",
      "1      0.006483\n",
      "2      0.004632\n",
      "3      0.006186\n",
      "4      0.006158\n",
      "         ...   \n",
      "667    0.006185\n",
      "668    0.006259\n",
      "669    0.005905\n",
      "670    0.009092\n",
      "671    0.010701\n",
      "Name: proportion, Length: 672, dtype: float64\n"
     ]
    },
    {
     "name": "stderr",
     "output_type": "stream",
     "text": [
      "21:32:00 - cmdstanpy - INFO - Chain [1] start processing\n",
      "21:32:00 - cmdstanpy - INFO - Chain [1] done processing\n"
     ]
    },
    {
     "name": "stdout",
     "output_type": "stream",
     "text": [
      "0      0.008986\n",
      "1      0.008582\n",
      "2      0.008942\n",
      "3      0.007927\n",
      "4      0.009833\n",
      "         ...   \n",
      "667    0.007599\n",
      "668    0.008897\n",
      "669    0.010135\n",
      "670    0.010219\n",
      "671    0.011330\n",
      "Name: proportion, Length: 672, dtype: float64\n"
     ]
    },
    {
     "name": "stderr",
     "output_type": "stream",
     "text": [
      "21:32:00 - cmdstanpy - INFO - Chain [1] start processing\n",
      "21:32:00 - cmdstanpy - INFO - Chain [1] done processing\n"
     ]
    },
    {
     "name": "stdout",
     "output_type": "stream",
     "text": [
      "0      0.007790\n",
      "1      0.007151\n",
      "2      0.007351\n",
      "3      0.007981\n",
      "4      0.006669\n",
      "         ...   \n",
      "667    0.009550\n",
      "668    0.012655\n",
      "669    0.011341\n",
      "670    0.012532\n",
      "671    0.015135\n",
      "Name: proportion, Length: 672, dtype: float64\n"
     ]
    },
    {
     "name": "stderr",
     "output_type": "stream",
     "text": [
      "21:32:01 - cmdstanpy - INFO - Chain [1] start processing\n",
      "21:32:01 - cmdstanpy - INFO - Chain [1] done processing\n"
     ]
    },
    {
     "name": "stdout",
     "output_type": "stream",
     "text": [
      "0      0.007718\n",
      "1      0.008154\n",
      "2      0.005312\n",
      "3      0.008623\n",
      "4      0.007180\n",
      "         ...   \n",
      "667    0.007749\n",
      "668    0.009259\n",
      "669    0.009950\n",
      "670    0.009910\n",
      "671    0.011673\n",
      "Name: proportion, Length: 672, dtype: float64\n"
     ]
    },
    {
     "name": "stderr",
     "output_type": "stream",
     "text": [
      "21:32:01 - cmdstanpy - INFO - Chain [1] start processing\n",
      "21:32:01 - cmdstanpy - INFO - Chain [1] done processing\n"
     ]
    },
    {
     "name": "stdout",
     "output_type": "stream",
     "text": [
      "0      0.009449\n",
      "1      0.012004\n",
      "2      0.010453\n",
      "3      0.015404\n",
      "4      0.014254\n",
      "         ...   \n",
      "667    0.010834\n",
      "668    0.012979\n",
      "669    0.009585\n",
      "670    0.009669\n",
      "671    0.014351\n",
      "Name: proportion, Length: 672, dtype: float64\n"
     ]
    },
    {
     "name": "stderr",
     "output_type": "stream",
     "text": [
      "21:32:01 - cmdstanpy - INFO - Chain [1] start processing\n",
      "21:32:01 - cmdstanpy - INFO - Chain [1] done processing\n"
     ]
    },
    {
     "name": "stdout",
     "output_type": "stream",
     "text": [
      "0      0.008841\n",
      "1      0.007920\n",
      "2      0.007250\n",
      "3      0.006856\n",
      "4      0.008203\n",
      "         ...   \n",
      "667    0.007188\n",
      "668    0.007431\n",
      "669    0.009201\n",
      "670    0.008776\n",
      "671    0.008097\n",
      "Name: proportion, Length: 672, dtype: float64\n"
     ]
    },
    {
     "name": "stderr",
     "output_type": "stream",
     "text": [
      "21:32:02 - cmdstanpy - INFO - Chain [1] start processing\n",
      "21:32:02 - cmdstanpy - INFO - Chain [1] done processing\n"
     ]
    },
    {
     "name": "stdout",
     "output_type": "stream",
     "text": [
      "0      0.006667\n",
      "1      0.006784\n",
      "2      0.004682\n",
      "3      0.005597\n",
      "4      0.006718\n",
      "         ...   \n",
      "667    0.005268\n",
      "668    0.004534\n",
      "669    0.004952\n",
      "670    0.008162\n",
      "671    0.013476\n",
      "Name: proportion, Length: 672, dtype: float64\n"
     ]
    },
    {
     "name": "stderr",
     "output_type": "stream",
     "text": [
      "21:32:02 - cmdstanpy - INFO - Chain [1] start processing\n",
      "21:32:02 - cmdstanpy - INFO - Chain [1] done processing\n"
     ]
    },
    {
     "name": "stdout",
     "output_type": "stream",
     "text": [
      "0      0.006341\n",
      "1      0.005514\n",
      "2      0.008408\n",
      "3      0.009775\n",
      "4      0.006134\n",
      "         ...   \n",
      "667    0.006355\n",
      "668    0.007397\n",
      "669    0.007389\n",
      "670    0.010784\n",
      "671    0.009470\n",
      "Name: proportion, Length: 672, dtype: float64\n"
     ]
    },
    {
     "name": "stderr",
     "output_type": "stream",
     "text": [
      "21:32:02 - cmdstanpy - INFO - Chain [1] start processing\n",
      "21:32:02 - cmdstanpy - INFO - Chain [1] done processing\n"
     ]
    },
    {
     "name": "stdout",
     "output_type": "stream",
     "text": [
      "0      0.010254\n",
      "1      0.008889\n",
      "2      0.011706\n",
      "3      0.018398\n",
      "4      0.014628\n",
      "         ...   \n",
      "667    0.008955\n",
      "668    0.009103\n",
      "669    0.007186\n",
      "670    0.008479\n",
      "671    0.011988\n",
      "Name: proportion, Length: 672, dtype: float64\n"
     ]
    },
    {
     "name": "stderr",
     "output_type": "stream",
     "text": [
      "21:32:03 - cmdstanpy - INFO - Chain [1] start processing\n",
      "21:32:03 - cmdstanpy - INFO - Chain [1] done processing\n"
     ]
    },
    {
     "name": "stdout",
     "output_type": "stream",
     "text": [
      "0      0.006406\n",
      "1      0.004732\n",
      "2      0.009949\n",
      "3      0.013455\n",
      "4      0.008373\n",
      "         ...   \n",
      "667    0.021859\n",
      "668    0.020041\n",
      "669    0.015308\n",
      "670    0.011900\n",
      "671    0.008515\n",
      "Name: proportion, Length: 672, dtype: float64\n",
      "0      0.004087\n",
      "1      0.004411\n",
      "2      0.004169\n",
      "3      0.007113\n",
      "4      0.007166\n",
      "         ...   \n",
      "667    0.017061\n",
      "668    0.025504\n",
      "669    0.025218\n",
      "670    0.027503\n",
      "671    0.029115\n",
      "Name: proportion, Length: 672, dtype: float64\n"
     ]
    },
    {
     "name": "stderr",
     "output_type": "stream",
     "text": [
      "21:32:03 - cmdstanpy - INFO - Chain [1] start processing\n",
      "21:32:03 - cmdstanpy - INFO - Chain [1] done processing\n",
      "21:32:03 - cmdstanpy - INFO - Chain [1] start processing\n",
      "21:32:03 - cmdstanpy - INFO - Chain [1] done processing\n"
     ]
    },
    {
     "name": "stdout",
     "output_type": "stream",
     "text": [
      "0      0.008116\n",
      "1      0.009958\n",
      "2      0.008861\n",
      "3      0.008168\n",
      "4      0.009493\n",
      "         ...   \n",
      "667    0.006338\n",
      "668    0.007172\n",
      "669    0.007779\n",
      "670    0.007456\n",
      "671    0.009070\n",
      "Name: proportion, Length: 672, dtype: float64\n"
     ]
    },
    {
     "name": "stderr",
     "output_type": "stream",
     "text": [
      "21:32:03 - cmdstanpy - INFO - Chain [1] start processing\n",
      "21:32:03 - cmdstanpy - INFO - Chain [1] done processing\n"
     ]
    },
    {
     "name": "stdout",
     "output_type": "stream",
     "text": [
      "0      0.009239\n",
      "1      0.006750\n",
      "2      0.004229\n",
      "3      0.007177\n",
      "4      0.005744\n",
      "         ...   \n",
      "667    0.004724\n",
      "668    0.005017\n",
      "669    0.005171\n",
      "670    0.006006\n",
      "671    0.006781\n",
      "Name: proportion, Length: 672, dtype: float64\n"
     ]
    },
    {
     "name": "stderr",
     "output_type": "stream",
     "text": [
      "21:32:04 - cmdstanpy - INFO - Chain [1] start processing\n",
      "21:32:04 - cmdstanpy - INFO - Chain [1] done processing\n"
     ]
    },
    {
     "name": "stdout",
     "output_type": "stream",
     "text": [
      "0      0.006087\n",
      "1      0.004972\n",
      "2      0.003524\n",
      "3      0.005827\n",
      "4      0.012326\n",
      "         ...   \n",
      "667    0.007817\n",
      "668    0.009641\n",
      "669    0.014984\n",
      "670    0.012926\n",
      "671    0.010964\n",
      "Name: proportion, Length: 672, dtype: float64\n"
     ]
    },
    {
     "name": "stderr",
     "output_type": "stream",
     "text": [
      "21:32:04 - cmdstanpy - INFO - Chain [1] start processing\n",
      "21:32:04 - cmdstanpy - INFO - Chain [1] done processing\n"
     ]
    },
    {
     "name": "stdout",
     "output_type": "stream",
     "text": [
      "0      0.008370\n",
      "1      0.006784\n",
      "2      0.005186\n",
      "3      0.006749\n",
      "4      0.010077\n",
      "         ...   \n",
      "667    0.009669\n",
      "668    0.011190\n",
      "669    0.011169\n",
      "670    0.013629\n",
      "671    0.006438\n",
      "Name: proportion, Length: 672, dtype: float64\n"
     ]
    },
    {
     "name": "stderr",
     "output_type": "stream",
     "text": [
      "21:32:04 - cmdstanpy - INFO - Chain [1] start processing\n",
      "21:32:04 - cmdstanpy - INFO - Chain [1] done processing\n"
     ]
    },
    {
     "name": "stdout",
     "output_type": "stream",
     "text": [
      "0      0.011652\n",
      "1      0.009143\n",
      "2      0.012104\n",
      "3      0.015104\n",
      "4      0.012735\n",
      "         ...   \n",
      "667    0.012140\n",
      "668    0.015283\n",
      "669    0.010035\n",
      "670    0.009520\n",
      "671    0.013024\n",
      "Name: proportion, Length: 672, dtype: float64\n"
     ]
    },
    {
     "name": "stderr",
     "output_type": "stream",
     "text": [
      "21:32:04 - cmdstanpy - INFO - Chain [1] start processing\n",
      "21:32:05 - cmdstanpy - INFO - Chain [1] done processing\n"
     ]
    },
    {
     "name": "stdout",
     "output_type": "stream",
     "text": [
      "0      0.008667\n",
      "1      0.010105\n",
      "2      0.010775\n",
      "3      0.009148\n",
      "4      0.005550\n",
      "         ...   \n",
      "667    0.009149\n",
      "668    0.006372\n",
      "669    0.005561\n",
      "670    0.005980\n",
      "671    0.006752\n",
      "Name: proportion, Length: 672, dtype: float64\n"
     ]
    },
    {
     "name": "stderr",
     "output_type": "stream",
     "text": [
      "21:32:05 - cmdstanpy - INFO - Chain [1] start processing\n",
      "21:32:05 - cmdstanpy - INFO - Chain [1] done processing\n"
     ]
    },
    {
     "name": "stdout",
     "output_type": "stream",
     "text": [
      "0      0.011247\n",
      "1      0.009731\n",
      "2      0.007573\n",
      "3      0.011548\n",
      "4      0.012229\n",
      "         ...   \n",
      "667    0.009964\n",
      "668    0.013103\n",
      "669    0.011897\n",
      "670    0.011096\n",
      "671    0.008423\n",
      "Name: proportion, Length: 672, dtype: float64\n"
     ]
    },
    {
     "name": "stderr",
     "output_type": "stream",
     "text": [
      "21:32:05 - cmdstanpy - INFO - Chain [1] start processing\n",
      "21:32:05 - cmdstanpy - INFO - Chain [1] done processing\n"
     ]
    },
    {
     "name": "stdout",
     "output_type": "stream",
     "text": [
      "0      0.007304\n",
      "1      0.006737\n",
      "2      0.005216\n",
      "3      0.006256\n",
      "4      0.006095\n",
      "         ...   \n",
      "667    0.008605\n",
      "668    0.010166\n",
      "669    0.009285\n",
      "670    0.011781\n",
      "671    0.014924\n",
      "Name: proportion, Length: 672, dtype: float64\n"
     ]
    },
    {
     "name": "stderr",
     "output_type": "stream",
     "text": [
      "21:32:05 - cmdstanpy - INFO - Chain [1] start processing\n",
      "21:32:05 - cmdstanpy - INFO - Chain [1] done processing\n"
     ]
    },
    {
     "name": "stdout",
     "output_type": "stream",
     "text": [
      "0      0.004312\n",
      "1      0.004144\n",
      "2      0.004783\n",
      "3      0.005303\n",
      "4      0.011367\n",
      "         ...   \n",
      "667    0.004605\n",
      "668    0.004621\n",
      "669    0.009060\n",
      "670    0.006489\n",
      "671    0.007067\n",
      "Name: proportion, Length: 672, dtype: float64\n"
     ]
    },
    {
     "name": "stderr",
     "output_type": "stream",
     "text": [
      "21:32:06 - cmdstanpy - INFO - Chain [1] start processing\n",
      "21:32:06 - cmdstanpy - INFO - Chain [1] done processing\n"
     ]
    },
    {
     "name": "stdout",
     "output_type": "stream",
     "text": [
      "0      0.005254\n",
      "1      0.005180\n",
      "2      0.004657\n",
      "3      0.004526\n",
      "4      0.008519\n",
      "         ...   \n",
      "667    0.008020\n",
      "668    0.012276\n",
      "669    0.019479\n",
      "670    0.022014\n",
      "671    0.015536\n",
      "Name: proportion, Length: 672, dtype: float64\n"
     ]
    },
    {
     "name": "stderr",
     "output_type": "stream",
     "text": [
      "21:32:06 - cmdstanpy - INFO - Chain [1] start processing\n",
      "21:32:06 - cmdstanpy - INFO - Chain [1] done processing\n"
     ]
    },
    {
     "name": "stdout",
     "output_type": "stream",
     "text": [
      "0      0.008899\n",
      "1      0.008715\n",
      "2      0.010916\n",
      "3      0.010070\n",
      "4      0.023815\n",
      "         ...   \n",
      "667    0.007898\n",
      "668    0.008993\n",
      "669    0.016446\n",
      "670    0.015083\n",
      "671    0.015565\n",
      "Name: proportion, Length: 672, dtype: float64\n"
     ]
    },
    {
     "name": "stderr",
     "output_type": "stream",
     "text": [
      "21:32:06 - cmdstanpy - INFO - Chain [1] start processing\n",
      "21:32:06 - cmdstanpy - INFO - Chain [1] done processing\n"
     ]
    },
    {
     "name": "stdout",
     "output_type": "stream",
     "text": [
      "0      0.006029\n",
      "1      0.006336\n",
      "2      0.007512\n",
      "3      0.007327\n",
      "4      0.005997\n",
      "         ...   \n",
      "667    0.014179\n",
      "668    0.015959\n",
      "669    0.011222\n",
      "670    0.011989\n",
      "671    0.014489\n",
      "Name: proportion, Length: 672, dtype: float64\n"
     ]
    },
    {
     "name": "stderr",
     "output_type": "stream",
     "text": [
      "21:32:06 - cmdstanpy - INFO - Chain [1] start processing\n",
      "21:32:07 - cmdstanpy - INFO - Chain [1] done processing\n"
     ]
    },
    {
     "name": "stdout",
     "output_type": "stream",
     "text": [
      "0      0.014464\n",
      "1      0.015292\n",
      "2      0.018186\n",
      "3      0.022817\n",
      "4      0.017720\n",
      "         ...   \n",
      "667    0.012099\n",
      "668    0.010179\n",
      "669    0.007935\n",
      "670    0.008806\n",
      "671    0.010895\n",
      "Name: proportion, Length: 672, dtype: float64\n",
      "0      0.007044\n",
      "1      0.007084\n",
      "2      0.010614\n",
      "3      0.014205\n",
      "4      0.008587\n",
      "         ...   \n",
      "667    0.011854\n",
      "668    0.012455\n",
      "669    0.010122\n",
      "670    0.009832\n",
      "671    0.014191\n",
      "Name: proportion, Length: 672, dtype: float64\n"
     ]
    },
    {
     "name": "stderr",
     "output_type": "stream",
     "text": [
      "21:32:07 - cmdstanpy - INFO - Chain [1] start processing\n",
      "21:32:07 - cmdstanpy - INFO - Chain [1] done processing\n",
      "21:32:07 - cmdstanpy - INFO - Chain [1] start processing\n",
      "21:32:07 - cmdstanpy - INFO - Chain [1] done processing\n"
     ]
    },
    {
     "name": "stdout",
     "output_type": "stream",
     "text": [
      "0      0.004928\n",
      "1      0.005815\n",
      "2      0.006999\n",
      "3      0.007472\n",
      "4      0.007886\n",
      "         ...   \n",
      "667    0.007749\n",
      "668    0.006759\n",
      "669    0.006405\n",
      "670    0.009445\n",
      "671    0.009671\n",
      "Name: proportion, Length: 672, dtype: float64\n"
     ]
    },
    {
     "name": "stderr",
     "output_type": "stream",
     "text": [
      "21:32:07 - cmdstanpy - INFO - Chain [1] start processing\n",
      "21:32:07 - cmdstanpy - INFO - Chain [1] done processing\n"
     ]
    },
    {
     "name": "stdout",
     "output_type": "stream",
     "text": [
      "0      0.010377\n",
      "1      0.011415\n",
      "2      0.012990\n",
      "3      0.014633\n",
      "4      0.010418\n",
      "         ...   \n",
      "667    0.005750\n",
      "668    0.005214\n",
      "669    0.004261\n",
      "670    0.004314\n",
      "671    0.006638\n",
      "Name: proportion, Length: 672, dtype: float64\n"
     ]
    },
    {
     "name": "stderr",
     "output_type": "stream",
     "text": [
      "21:32:07 - cmdstanpy - INFO - Chain [1] start processing\n",
      "21:32:07 - cmdstanpy - INFO - Chain [1] done processing\n"
     ]
    },
    {
     "name": "stdout",
     "output_type": "stream",
     "text": [
      "0      0.001370\n",
      "1      0.001805\n",
      "2      0.002205\n",
      "3      0.002667\n",
      "4      0.002088\n",
      "         ...   \n",
      "667    0.001213\n",
      "668    0.000931\n",
      "669    0.000900\n",
      "670    0.001138\n",
      "671    0.000893\n",
      "Name: proportion, Length: 672, dtype: float64\n"
     ]
    },
    {
     "name": "stderr",
     "output_type": "stream",
     "text": [
      "21:32:08 - cmdstanpy - INFO - Chain [1] start processing\n",
      "21:32:08 - cmdstanpy - INFO - Chain [1] done processing\n"
     ]
    },
    {
     "name": "stdout",
     "output_type": "stream",
     "text": [
      "0      0.016319\n",
      "1      0.013875\n",
      "2      0.013675\n",
      "3      0.013776\n",
      "4      0.011975\n",
      "         ...   \n",
      "667    0.022688\n",
      "668    0.022469\n",
      "669    0.017545\n",
      "670    0.020631\n",
      "671    0.021470\n",
      "Name: proportion, Length: 672, dtype: float64\n"
     ]
    },
    {
     "name": "stderr",
     "output_type": "stream",
     "text": [
      "21:32:08 - cmdstanpy - INFO - Chain [1] start processing\n",
      "21:32:08 - cmdstanpy - INFO - Chain [1] done processing\n"
     ]
    },
    {
     "name": "stdout",
     "output_type": "stream",
     "text": [
      "0      0.000696\n",
      "1      0.000401\n",
      "2      0.000322\n",
      "3      0.000364\n",
      "4      0.000185\n",
      "         ...   \n",
      "667    0.000619\n",
      "668    0.000566\n",
      "669    0.000625\n",
      "670    0.000714\n",
      "671    0.000423\n",
      "Name: proportion, Length: 672, dtype: float64\n"
     ]
    },
    {
     "name": "stderr",
     "output_type": "stream",
     "text": [
      "21:32:08 - cmdstanpy - INFO - Chain [1] start processing\n",
      "21:32:08 - cmdstanpy - INFO - Chain [1] done processing\n"
     ]
    },
    {
     "name": "stdout",
     "output_type": "stream",
     "text": [
      "0      0.005688\n",
      "1      0.005079\n",
      "2      0.004179\n",
      "3      0.005303\n",
      "4      0.004892\n",
      "         ...   \n",
      "667    0.003314\n",
      "668    0.004569\n",
      "669    0.005077\n",
      "670    0.004667\n",
      "671    0.003061\n",
      "Name: proportion, Length: 672, dtype: float64\n"
     ]
    },
    {
     "name": "stderr",
     "output_type": "stream",
     "text": [
      "21:32:08 - cmdstanpy - INFO - Chain [1] start processing\n",
      "21:32:08 - cmdstanpy - INFO - Chain [1] done processing\n"
     ]
    },
    {
     "name": "stdout",
     "output_type": "stream",
     "text": [
      "0      0.005884\n",
      "1      0.006363\n",
      "2      0.006223\n",
      "3      0.004242\n",
      "4      0.014409\n",
      "         ...   \n",
      "667    0.009869\n",
      "668    0.011393\n",
      "669    0.013934\n",
      "670    0.013402\n",
      "671    0.008561\n",
      "Name: proportion, Length: 672, dtype: float64\n"
     ]
    },
    {
     "name": "stderr",
     "output_type": "stream",
     "text": [
      "21:32:09 - cmdstanpy - INFO - Chain [1] start processing\n",
      "21:32:09 - cmdstanpy - INFO - Chain [1] done processing\n"
     ]
    },
    {
     "name": "stdout",
     "output_type": "stream",
     "text": [
      "0      0.009623\n",
      "1      0.008608\n",
      "2      0.010090\n",
      "3      0.011291\n",
      "4      0.006309\n",
      "         ...   \n",
      "667    0.010685\n",
      "668    0.012400\n",
      "669    0.013246\n",
      "670    0.013357\n",
      "671    0.012681\n",
      "Name: proportion, Length: 672, dtype: float64\n"
     ]
    },
    {
     "name": "stderr",
     "output_type": "stream",
     "text": [
      "21:32:09 - cmdstanpy - INFO - Chain [1] start processing\n",
      "21:32:09 - cmdstanpy - INFO - Chain [1] done processing\n"
     ]
    },
    {
     "name": "stdout",
     "output_type": "stream",
     "text": [
      "0      0.013276\n",
      "1      0.012191\n",
      "2      0.010110\n",
      "3      0.013240\n",
      "4      0.009639\n",
      "         ...   \n",
      "667    0.018107\n",
      "668    0.027641\n",
      "669    0.021307\n",
      "670    0.019263\n",
      "671    0.018655\n",
      "Name: proportion, Length: 672, dtype: float64\n"
     ]
    },
    {
     "name": "stderr",
     "output_type": "stream",
     "text": [
      "21:32:09 - cmdstanpy - INFO - Chain [1] start processing\n",
      "21:32:09 - cmdstanpy - INFO - Chain [1] done processing\n"
     ]
    },
    {
     "name": "stdout",
     "output_type": "stream",
     "text": [
      "0      0.007015\n",
      "1      0.007432\n",
      "2      0.006163\n",
      "3      0.008184\n",
      "4      0.009444\n",
      "         ...   \n",
      "667    0.007708\n",
      "668    0.007931\n",
      "669    0.010647\n",
      "670    0.009877\n",
      "671    0.009041\n",
      "Name: proportion, Length: 672, dtype: float64\n"
     ]
    },
    {
     "name": "stderr",
     "output_type": "stream",
     "text": [
      "21:32:10 - cmdstanpy - INFO - Chain [1] start processing\n",
      "21:32:10 - cmdstanpy - INFO - Chain [1] done processing\n"
     ]
    },
    {
     "name": "stdout",
     "output_type": "stream",
     "text": [
      "0      0.007449\n",
      "1      0.006389\n",
      "2      0.006203\n",
      "3      0.008955\n",
      "4      0.007633\n",
      "         ...   \n",
      "667    0.008877\n",
      "668    0.010759\n",
      "669    0.012584\n",
      "670    0.009564\n",
      "671    0.005699\n",
      "Name: proportion, Length: 672, dtype: float64\n"
     ]
    },
    {
     "name": "stderr",
     "output_type": "stream",
     "text": [
      "21:32:10 - cmdstanpy - INFO - Chain [1] start processing\n",
      "21:32:10 - cmdstanpy - INFO - Chain [1] done processing\n"
     ]
    },
    {
     "name": "stdout",
     "output_type": "stream",
     "text": [
      "0      0.005580\n",
      "1      0.005079\n",
      "2      0.005438\n",
      "3      0.005892\n",
      "4      0.007424\n",
      "         ...   \n",
      "667    0.004979\n",
      "668    0.005914\n",
      "669    0.006733\n",
      "670    0.006563\n",
      "671    0.007782\n",
      "Name: proportion, Length: 672, dtype: float64\n"
     ]
    },
    {
     "name": "stderr",
     "output_type": "stream",
     "text": [
      "21:32:10 - cmdstanpy - INFO - Chain [1] start processing\n",
      "21:32:10 - cmdstanpy - INFO - Chain [1] done processing\n"
     ]
    },
    {
     "name": "stdout",
     "output_type": "stream",
     "text": [
      "0      0.007681\n",
      "1      0.006683\n",
      "2      0.009828\n",
      "3      0.008034\n",
      "4      0.016123\n",
      "         ...   \n",
      "667    0.011161\n",
      "668    0.010510\n",
      "669    0.016833\n",
      "670    0.013462\n",
      "671    0.014626\n",
      "Name: proportion, Length: 672, dtype: float64\n"
     ]
    },
    {
     "name": "stderr",
     "output_type": "stream",
     "text": [
      "21:32:11 - cmdstanpy - INFO - Chain [1] start processing\n",
      "21:32:11 - cmdstanpy - INFO - Chain [1] done processing\n"
     ]
    },
    {
     "name": "stdout",
     "output_type": "stream",
     "text": [
      "0      0.008522\n",
      "1      0.011068\n",
      "2      0.008741\n",
      "3      0.006749\n",
      "4      0.005472\n",
      "         ...   \n",
      "667    0.005546\n",
      "668    0.004207\n",
      "669    0.003699\n",
      "670    0.004671\n",
      "671    0.004555\n",
      "Name: proportion, Length: 672, dtype: float64\n"
     ]
    },
    {
     "name": "stderr",
     "output_type": "stream",
     "text": [
      "21:32:11 - cmdstanpy - INFO - Chain [1] start processing\n",
      "21:32:11 - cmdstanpy - INFO - Chain [1] done processing\n"
     ]
    },
    {
     "name": "stdout",
     "output_type": "stream",
     "text": [
      "0      0.008478\n",
      "1      0.009290\n",
      "2      0.013015\n",
      "3      0.010793\n",
      "4      0.006669\n",
      "         ...   \n",
      "667    0.007341\n",
      "668    0.005190\n",
      "669    0.004561\n",
      "670    0.005615\n",
      "671    0.004664\n",
      "Name: proportion, Length: 672, dtype: float64\n"
     ]
    },
    {
     "name": "stderr",
     "output_type": "stream",
     "text": [
      "21:32:11 - cmdstanpy - INFO - Chain [1] start processing\n",
      "21:32:11 - cmdstanpy - INFO - Chain [1] done processing\n"
     ]
    },
    {
     "name": "stdout",
     "output_type": "stream",
     "text": [
      "0      0.020066\n",
      "1      0.020050\n",
      "2      0.016842\n",
      "3      0.014237\n",
      "4      0.012939\n",
      "         ...   \n",
      "667    0.015426\n",
      "668    0.011648\n",
      "669    0.011116\n",
      "670    0.010620\n",
      "671    0.010540\n",
      "Name: proportion, Length: 672, dtype: float64\n"
     ]
    },
    {
     "name": "stderr",
     "output_type": "stream",
     "text": [
      "21:32:12 - cmdstanpy - INFO - Chain [1] start processing\n",
      "21:32:12 - cmdstanpy - INFO - Chain [1] done processing\n"
     ]
    },
    {
     "name": "stdout",
     "output_type": "stream",
     "text": [
      "0      0.007536\n",
      "1      0.009384\n",
      "2      0.014380\n",
      "3      0.008763\n",
      "4      0.006231\n",
      "         ...   \n",
      "667    0.017020\n",
      "668    0.011269\n",
      "669    0.007735\n",
      "670    0.010308\n",
      "671    0.014100\n",
      "Name: proportion, Length: 672, dtype: float64\n"
     ]
    },
    {
     "name": "stderr",
     "output_type": "stream",
     "text": [
      "21:32:12 - cmdstanpy - INFO - Chain [1] start processing\n",
      "21:32:12 - cmdstanpy - INFO - Chain [1] done processing\n"
     ]
    },
    {
     "name": "stdout",
     "output_type": "stream",
     "text": [
      "0      0.005688\n",
      "1      0.007586\n",
      "2      0.010448\n",
      "3      0.007418\n",
      "4      0.006718\n",
      "         ...   \n",
      "667    0.012693\n",
      "668    0.009379\n",
      "669    0.007467\n",
      "670    0.007103\n",
      "671    0.003691\n",
      "Name: proportion, Length: 672, dtype: float64\n"
     ]
    },
    {
     "name": "stderr",
     "output_type": "stream",
     "text": [
      "21:32:12 - cmdstanpy - INFO - Chain [1] start processing\n",
      "21:32:12 - cmdstanpy - INFO - Chain [1] done processing\n"
     ]
    },
    {
     "name": "stdout",
     "output_type": "stream",
     "text": [
      "0      0.007855\n",
      "1      0.012832\n",
      "2      0.011077\n",
      "3      0.007177\n",
      "4      0.006504\n",
      "         ...   \n",
      "667    0.015035\n",
      "668    0.012083\n",
      "669    0.009248\n",
      "670    0.010338\n",
      "671    0.009980\n",
      "Name: proportion, Length: 672, dtype: float64\n"
     ]
    },
    {
     "name": "stderr",
     "output_type": "stream",
     "text": [
      "21:32:12 - cmdstanpy - INFO - Chain [1] start processing\n",
      "21:32:13 - cmdstanpy - INFO - Chain [1] done processing\n"
     ]
    },
    {
     "name": "stdout",
     "output_type": "stream",
     "text": [
      "0      0.006406\n",
      "1      0.009785\n",
      "2      0.011178\n",
      "3      0.007863\n",
      "4      0.009055\n",
      "         ...   \n",
      "667    0.008143\n",
      "668    0.007076\n",
      "669    0.007648\n",
      "670    0.007274\n",
      "671    0.006981\n",
      "Name: proportion, Length: 672, dtype: float64\n"
     ]
    },
    {
     "name": "stderr",
     "output_type": "stream",
     "text": [
      "21:32:13 - cmdstanpy - INFO - Chain [1] start processing\n",
      "21:32:13 - cmdstanpy - INFO - Chain [1] done processing\n"
     ]
    },
    {
     "name": "stdout",
     "output_type": "stream",
     "text": [
      "0      0.008515\n",
      "1      0.008789\n",
      "2      0.006394\n",
      "3      0.005972\n",
      "4      0.005550\n",
      "         ...   \n",
      "667    0.006287\n",
      "668    0.005759\n",
      "669    0.004983\n",
      "670    0.005485\n",
      "671    0.005236\n",
      "Name: proportion, Length: 672, dtype: float64\n"
     ]
    },
    {
     "name": "stderr",
     "output_type": "stream",
     "text": [
      "21:32:13 - cmdstanpy - INFO - Chain [1] start processing\n",
      "21:32:13 - cmdstanpy - INFO - Chain [1] done processing\n"
     ]
    },
    {
     "name": "stdout",
     "output_type": "stream",
     "text": [
      "0      0.020566\n",
      "1      0.022670\n",
      "2      0.019173\n",
      "3      0.016551\n",
      "4      0.020173\n",
      "         ...   \n",
      "667    0.018617\n",
      "668    0.016386\n",
      "669    0.019276\n",
      "670    0.020646\n",
      "671    0.017487\n",
      "Name: proportion, Length: 672, dtype: float64\n"
     ]
    },
    {
     "name": "stderr",
     "output_type": "stream",
     "text": [
      "21:32:13 - cmdstanpy - INFO - Chain [1] start processing\n",
      "21:32:14 - cmdstanpy - INFO - Chain [1] done processing\n"
     ]
    },
    {
     "name": "stdout",
     "output_type": "stream",
     "text": [
      "0      0.019710\n",
      "1      0.020024\n",
      "2      0.020784\n",
      "3      0.016165\n",
      "4      0.015500\n",
      "         ...   \n",
      "667    0.018019\n",
      "668    0.015545\n",
      "669    0.015515\n",
      "670    0.014919\n",
      "671    0.010712\n",
      "Name: proportion, Length: 672, dtype: float64\n"
     ]
    },
    {
     "name": "stderr",
     "output_type": "stream",
     "text": [
      "21:32:14 - cmdstanpy - INFO - Chain [1] start processing\n",
      "21:32:14 - cmdstanpy - INFO - Chain [1] done processing\n"
     ]
    },
    {
     "name": "stdout",
     "output_type": "stream",
     "text": [
      "0      0.011420\n",
      "1      0.013046\n",
      "2      0.009204\n",
      "3      0.007434\n",
      "4      0.006659\n",
      "         ...   \n",
      "667    0.010658\n",
      "668    0.009352\n",
      "669    0.007211\n",
      "670    0.007080\n",
      "671    0.008995\n",
      "Name: proportion, Length: 672, dtype: float64\n"
     ]
    },
    {
     "name": "stderr",
     "output_type": "stream",
     "text": [
      "21:32:14 - cmdstanpy - INFO - Chain [1] start processing\n",
      "21:32:14 - cmdstanpy - INFO - Chain [1] done processing\n"
     ]
    },
    {
     "name": "stdout",
     "output_type": "stream",
     "text": [
      "0      0.030327\n",
      "1      0.034406\n",
      "2      0.032052\n",
      "3      0.021162\n",
      "4      0.025061\n",
      "         ...   \n",
      "667    0.025672\n",
      "668    0.017969\n",
      "669    0.017527\n",
      "670    0.016288\n",
      "671    0.015296\n",
      "Name: proportion, Length: 672, dtype: float64\n"
     ]
    },
    {
     "name": "stderr",
     "output_type": "stream",
     "text": [
      "21:32:14 - cmdstanpy - INFO - Chain [1] start processing\n",
      "21:32:14 - cmdstanpy - INFO - Chain [1] done processing\n"
     ]
    },
    {
     "name": "stdout",
     "output_type": "stream",
     "text": [
      "0      0.009739\n",
      "1      0.010373\n",
      "2      0.009728\n",
      "3      0.009770\n",
      "4      0.006523\n",
      "         ...   \n",
      "667    0.009162\n",
      "668    0.008690\n",
      "669    0.005099\n",
      "670    0.005637\n",
      "671    0.005379\n",
      "Name: proportion, Length: 672, dtype: float64\n"
     ]
    },
    {
     "name": "stderr",
     "output_type": "stream",
     "text": [
      "21:32:15 - cmdstanpy - INFO - Chain [1] start processing\n",
      "21:32:15 - cmdstanpy - INFO - Chain [1] done processing\n"
     ]
    },
    {
     "name": "stdout",
     "output_type": "stream",
     "text": [
      "0      0.011942\n",
      "1      0.011442\n",
      "2      0.010815\n",
      "3      0.009727\n",
      "4      0.007146\n",
      "         ...   \n",
      "667    0.010631\n",
      "668    0.009172\n",
      "669    0.006236\n",
      "670    0.006158\n",
      "671    0.006340\n",
      "Name: proportion, Length: 672, dtype: float64\n"
     ]
    },
    {
     "name": "stderr",
     "output_type": "stream",
     "text": [
      "21:32:15 - cmdstanpy - INFO - Chain [1] start processing\n",
      "21:32:15 - cmdstanpy - INFO - Chain [1] done processing\n"
     ]
    },
    {
     "name": "stdout",
     "output_type": "stream",
     "text": [
      "0      0.008044\n",
      "1      0.011596\n",
      "2      0.008006\n",
      "3      0.008248\n",
      "4      0.007399\n",
      "         ...   \n",
      "667    0.007783\n",
      "668    0.008000\n",
      "669    0.006061\n",
      "670    0.006173\n",
      "671    0.003834\n",
      "Name: proportion, Length: 672, dtype: float64\n"
     ]
    },
    {
     "name": "stderr",
     "output_type": "stream",
     "text": [
      "21:32:15 - cmdstanpy - INFO - Chain [1] start processing\n",
      "21:32:15 - cmdstanpy - INFO - Chain [1] done processing\n"
     ]
    },
    {
     "name": "stdout",
     "output_type": "stream",
     "text": [
      "0      0.009819\n",
      "1      0.009825\n",
      "2      0.008157\n",
      "3      0.007740\n",
      "4      0.008032\n",
      "         ...   \n",
      "667    0.006593\n",
      "668    0.007672\n",
      "669    0.006467\n",
      "670    0.007512\n",
      "671    0.008097\n",
      "Name: proportion, Length: 672, dtype: float64\n"
     ]
    },
    {
     "name": "stderr",
     "output_type": "stream",
     "text": [
      "21:32:15 - cmdstanpy - INFO - Chain [1] start processing\n",
      "21:32:15 - cmdstanpy - INFO - Chain [1] done processing\n"
     ]
    },
    {
     "name": "stdout",
     "output_type": "stream",
     "text": [
      "0      0.007573\n",
      "1      0.007485\n",
      "2      0.008056\n",
      "3      0.007874\n",
      "4      0.006645\n",
      "         ...   \n",
      "667    0.007426\n",
      "668    0.006310\n",
      "669    0.003765\n",
      "670    0.004500\n",
      "671    0.005064\n",
      "Name: proportion, Length: 672, dtype: float64\n"
     ]
    },
    {
     "name": "stderr",
     "output_type": "stream",
     "text": [
      "21:32:16 - cmdstanpy - INFO - Chain [1] start processing\n",
      "21:32:16 - cmdstanpy - INFO - Chain [1] done processing\n"
     ]
    },
    {
     "name": "stdout",
     "output_type": "stream",
     "text": [
      "0      0.018754\n",
      "1      0.022430\n",
      "2      0.017904\n",
      "3      0.014633\n",
      "4      0.009658\n",
      "         ...   \n",
      "667    0.014165\n",
      "668    0.012014\n",
      "669    0.008360\n",
      "670    0.008672\n",
      "671    0.011330\n",
      "Name: proportion, Length: 672, dtype: float64\n"
     ]
    },
    {
     "name": "stderr",
     "output_type": "stream",
     "text": [
      "21:32:16 - cmdstanpy - INFO - Chain [1] start processing\n",
      "21:32:16 - cmdstanpy - INFO - Chain [1] done processing\n"
     ]
    },
    {
     "name": "stdout",
     "output_type": "stream",
     "text": [
      "0      0.011884\n",
      "1      0.015666\n",
      "2      0.013675\n",
      "3      0.013562\n",
      "4      0.009756\n",
      "         ...   \n",
      "667    0.015171\n",
      "668    0.013186\n",
      "669    0.010022\n",
      "670    0.010368\n",
      "671    0.011994\n",
      "Name: proportion, Length: 672, dtype: float64\n"
     ]
    },
    {
     "name": "stderr",
     "output_type": "stream",
     "text": [
      "21:32:17 - cmdstanpy - INFO - Chain [1] start processing\n",
      "21:32:17 - cmdstanpy - INFO - Chain [1] done processing\n"
     ]
    },
    {
     "name": "stdout",
     "output_type": "stream",
     "text": [
      "0      0.016652\n",
      "1      0.015880\n",
      "2      0.016001\n",
      "3      0.015222\n",
      "4      0.019959\n",
      "         ...   \n",
      "667    0.016761\n",
      "668    0.016379\n",
      "669    0.018308\n",
      "670    0.019776\n",
      "671    0.017613\n",
      "Name: proportion, Length: 672, dtype: float64\n"
     ]
    },
    {
     "name": "stderr",
     "output_type": "stream",
     "text": [
      "21:32:17 - cmdstanpy - INFO - Chain [1] start processing\n",
      "21:32:17 - cmdstanpy - INFO - Chain [1] done processing\n"
     ]
    },
    {
     "name": "stdout",
     "output_type": "stream",
     "text": [
      "0      0.010942\n",
      "1      0.008521\n",
      "2      0.008786\n",
      "3      0.006936\n",
      "4      0.007838\n",
      "         ...   \n",
      "667    0.008768\n",
      "668    0.006914\n",
      "669    0.008092\n",
      "670    0.006991\n",
      "671    0.004664\n",
      "Name: proportion, Length: 672, dtype: float64\n"
     ]
    },
    {
     "name": "stderr",
     "output_type": "stream",
     "text": [
      "21:32:17 - cmdstanpy - INFO - Chain [1] start processing\n",
      "21:32:17 - cmdstanpy - INFO - Chain [1] done processing\n"
     ]
    },
    {
     "name": "stdout",
     "output_type": "stream",
     "text": [
      "0      0.035935\n",
      "1      0.040622\n",
      "2      0.030074\n",
      "3      0.027622\n",
      "4      0.019321\n",
      "         ...   \n",
      "667    0.022838\n",
      "668    0.020835\n",
      "669    0.015971\n",
      "670    0.015094\n",
      "671    0.018042\n",
      "Name: proportion, Length: 672, dtype: float64\n"
     ]
    },
    {
     "name": "stderr",
     "output_type": "stream",
     "text": [
      "21:32:17 - cmdstanpy - INFO - Chain [1] start processing\n",
      "21:32:17 - cmdstanpy - INFO - Chain [1] done processing\n"
     ]
    },
    {
     "name": "stdout",
     "output_type": "stream",
     "text": [
      "0      0.008587\n",
      "1      0.010994\n",
      "2      0.009013\n",
      "3      0.007284\n",
      "4      0.008349\n",
      "         ...   \n",
      "667    0.009312\n",
      "668    0.008776\n",
      "669    0.010310\n",
      "670    0.009204\n",
      "671    0.009871\n",
      "Name: proportion, Length: 672, dtype: float64\n"
     ]
    },
    {
     "name": "stderr",
     "output_type": "stream",
     "text": [
      "21:32:17 - cmdstanpy - INFO - Chain [1] start processing\n",
      "21:32:18 - cmdstanpy - INFO - Chain [1] done processing\n"
     ]
    },
    {
     "name": "stdout",
     "output_type": "stream",
     "text": [
      "0      0.007536\n",
      "1      0.007252\n",
      "2      0.009038\n",
      "3      0.007418\n",
      "4      0.005647\n",
      "         ...   \n",
      "667    0.007443\n",
      "668    0.006707\n",
      "669    0.004343\n",
      "670    0.006117\n",
      "671    0.004950\n",
      "Name: proportion, Length: 672, dtype: float64\n"
     ]
    },
    {
     "name": "stderr",
     "output_type": "stream",
     "text": [
      "21:32:18 - cmdstanpy - INFO - Chain [1] start processing\n",
      "21:32:18 - cmdstanpy - INFO - Chain [1] done processing\n"
     ]
    },
    {
     "name": "stdout",
     "output_type": "stream",
     "text": [
      "0      0.013565\n",
      "1      0.013233\n",
      "2      0.014591\n",
      "3      0.014253\n",
      "4      0.011128\n",
      "         ...   \n",
      "667    0.013264\n",
      "668    0.013066\n",
      "669    0.011528\n",
      "670    0.011223\n",
      "671    0.012686\n",
      "Name: proportion, Length: 672, dtype: float64\n",
      "0      0.008261\n",
      "1      0.007485\n",
      "2      0.007729\n",
      "3      0.007418\n",
      "4      0.005428\n",
      "         ...   \n",
      "667    0.005421\n",
      "668    0.005207\n",
      "669    0.004015\n",
      "670    0.005299\n",
      "671    0.004177\n",
      "Name: proportion, Length: 672, dtype: float64\n"
     ]
    },
    {
     "name": "stderr",
     "output_type": "stream",
     "text": [
      "21:32:18 - cmdstanpy - INFO - Chain [1] start processing\n",
      "21:32:18 - cmdstanpy - INFO - Chain [1] done processing\n",
      "21:32:18 - cmdstanpy - INFO - Chain [1] start processing\n",
      "21:32:18 - cmdstanpy - INFO - Chain [1] done processing\n"
     ]
    },
    {
     "name": "stdout",
     "output_type": "stream",
     "text": [
      "0      0.008152\n",
      "1      0.007586\n",
      "2      0.009315\n",
      "3      0.006883\n",
      "4      0.004576\n",
      "         ...   \n",
      "667    0.006083\n",
      "668    0.004776\n",
      "669    0.004202\n",
      "670    0.005373\n",
      "671    0.003834\n",
      "Name: proportion, Length: 672, dtype: float64\n"
     ]
    },
    {
     "name": "stderr",
     "output_type": "stream",
     "text": [
      "21:32:18 - cmdstanpy - INFO - Chain [1] start processing\n",
      "21:32:18 - cmdstanpy - INFO - Chain [1] done processing\n"
     ]
    },
    {
     "name": "stdout",
     "output_type": "stream",
     "text": [
      "0      0.006486\n",
      "1      0.005547\n",
      "2      0.005815\n",
      "3      0.005437\n",
      "4      0.004600\n",
      "         ...   \n",
      "667    0.004469\n",
      "668    0.004241\n",
      "669    0.003921\n",
      "670    0.004704\n",
      "671    0.003204\n",
      "Name: proportion, Length: 672, dtype: float64\n"
     ]
    },
    {
     "name": "stderr",
     "output_type": "stream",
     "text": [
      "21:32:19 - cmdstanpy - INFO - Chain [1] start processing\n",
      "21:32:19 - cmdstanpy - INFO - Chain [1] done processing\n"
     ]
    },
    {
     "name": "stdout",
     "output_type": "stream",
     "text": [
      "0      0.010616\n",
      "1      0.008321\n",
      "2      0.009743\n",
      "3      0.012989\n",
      "4      0.008957\n",
      "         ...   \n",
      "667    0.012422\n",
      "668    0.009241\n",
      "669    0.005748\n",
      "670    0.007400\n",
      "671    0.009671\n",
      "Name: proportion, Length: 672, dtype: float64\n"
     ]
    },
    {
     "name": "stderr",
     "output_type": "stream",
     "text": [
      "21:32:19 - cmdstanpy - INFO - Chain [1] start processing\n",
      "21:32:19 - cmdstanpy - INFO - Chain [1] done processing\n"
     ]
    },
    {
     "name": "stdout",
     "output_type": "stream",
     "text": [
      "0      0.012464\n",
      "1      0.012030\n",
      "2      0.011480\n",
      "3      0.010793\n",
      "4      0.009006\n",
      "         ...   \n",
      "667    0.007630\n",
      "668    0.008793\n",
      "669    0.008670\n",
      "670    0.009036\n",
      "671    0.007954\n",
      "Name: proportion, Length: 672, dtype: float64\n"
     ]
    },
    {
     "name": "stderr",
     "output_type": "stream",
     "text": [
      "21:32:19 - cmdstanpy - INFO - Chain [1] start processing\n",
      "21:32:19 - cmdstanpy - INFO - Chain [1] done processing\n"
     ]
    },
    {
     "name": "stdout",
     "output_type": "stream",
     "text": [
      "0      0.009218\n",
      "1      0.010506\n",
      "2      0.013353\n",
      "3      0.009405\n",
      "4      0.009035\n",
      "         ...   \n",
      "667    0.013798\n",
      "668    0.009710\n",
      "669    0.008198\n",
      "670    0.008761\n",
      "671    0.006821\n",
      "Name: proportion, Length: 672, dtype: float64\n",
      "0      0.018696\n",
      "1      0.017925\n",
      "2      0.016706\n",
      "3      0.014172\n",
      "4      0.019112\n",
      "         ...   \n",
      "667    0.017523\n",
      "668    0.017669\n",
      "669    0.018882\n",
      "670    0.020311\n",
      "671    0.016617\n",
      "Name: proportion, Length: 672, dtype: float64\n"
     ]
    },
    {
     "name": "stderr",
     "output_type": "stream",
     "text": [
      "21:32:19 - cmdstanpy - INFO - Chain [1] start processing\n",
      "21:32:19 - cmdstanpy - INFO - Chain [1] done processing\n",
      "21:32:19 - cmdstanpy - INFO - Chain [1] start processing\n",
      "21:32:20 - cmdstanpy - INFO - Chain [1] done processing\n"
     ]
    },
    {
     "name": "stdout",
     "output_type": "stream",
     "text": [
      "0      0.009312\n",
      "1      0.008922\n",
      "2      0.008257\n",
      "3      0.009614\n",
      "4      0.010418\n",
      "         ...   \n",
      "667    0.008700\n",
      "668    0.008741\n",
      "669    0.009326\n",
      "670    0.008386\n",
      "671    0.007754\n",
      "Name: proportion, Length: 672, dtype: float64\n",
      "0      0.006377\n",
      "1      0.009036\n",
      "2      0.009707\n",
      "3      0.008356\n",
      "4      0.009327\n",
      "         ...   \n",
      "667    0.008591\n",
      "668    0.010855\n",
      "669    0.011659\n",
      "670    0.013015\n",
      "671    0.013070\n",
      "Name: proportion, Length: 672, dtype: float64\n"
     ]
    },
    {
     "name": "stderr",
     "output_type": "stream",
     "text": [
      "21:32:20 - cmdstanpy - INFO - Chain [1] start processing\n",
      "21:32:20 - cmdstanpy - INFO - Chain [1] done processing\n",
      "21:32:20 - cmdstanpy - INFO - Chain [1] start processing\n",
      "21:32:20 - cmdstanpy - INFO - Chain [1] done processing\n"
     ]
    },
    {
     "name": "stdout",
     "output_type": "stream",
     "text": [
      "0      0.024479\n",
      "1      0.022918\n",
      "2      0.024304\n",
      "3      0.021869\n",
      "4      0.032188\n",
      "         ...   \n",
      "667    0.017852\n",
      "668    0.020245\n",
      "669    0.025278\n",
      "670    0.024978\n",
      "671    0.030179\n",
      "Name: proportion, Length: 672, dtype: float64\n"
     ]
    }
   ],
   "source": [
    "# Forecasting next month for each pair\n",
    "results = []\n",
    "#accuracy_val = []\n",
    "for (src, dst), group in agg_df.groupby(['srcid', 'destid']):\n",
    "    data = group.rename(columns={'month': 'ds', 'final_seatcount': 'y'})\n",
    "    data = pd.merge(data,total_df,on = \"ds\",how = \"outer\")\n",
    "    data[\"proportion\"] = data[\"y\"]/data[\"total\"]\n",
    "    print(data[\"proportion\"])\n",
    "    data = data[[\"ds\",\"proportion\"]]\n",
    "    data = data.rename(columns={\"proportion\":\"y\"})\n",
    "    #data_1 = data[ data[\"ds\"] < '2024-12-01']\n",
    "    model = Prophet()\n",
    "    model.fit(data)\n",
    "    \n",
    "    future = model.make_future_dataframe(periods=60, freq='D')\n",
    "    \n",
    "    forecast = model.predict(future)\n",
    "    forecast[\"srcid\"]=src\n",
    "    forecast[\"destid\"]=dst\n",
    "    forecast=forecast[[\"srcid\",\"destid\",\"ds\",\"yhat\"]]\n",
    "    #forecast[\"yhat\"] = forecast.yhat.round()\n",
    "    #accurracy = root_mean_squared_error(data[data[\"ds\"]>=\"2024-12-01\"][\"y\"],forecast[forecast[\"ds\"]>=\"2024-12-01\"][\"yhat\"])\n",
    "    #forecast.to_csv(\"monthly_trial_forecast.csv\", index=False)\n",
    "\n",
    "    #accuracy_val.append([src,dst,accurracy])\n",
    "    results.append(forecast)\n",
    "\n",
    "# Save result\n",
    "appended_data = pd.concat(results)\n",
    "\n",
    "\n",
    "#acc = pd.DataFrame(accuracy_val,columns=[\"src\",\"dest\",\"accuracy\"])\n",
    "#appended_data.to_csv(\"monthly_forecast_by_route.csv\", index=False)\n",
    "#acc.to_csv(\"accurracy.csv\",index=False)\n",
    "\n",
    "\n",
    "\n"
   ]
  },
  {
   "cell_type": "code",
   "execution_count": 146,
   "id": "e67dc007",
   "metadata": {},
   "outputs": [
    {
     "data": {
      "text/html": [
       "<div>\n",
       "<style scoped>\n",
       "    .dataframe tbody tr th:only-of-type {\n",
       "        vertical-align: middle;\n",
       "    }\n",
       "\n",
       "    .dataframe tbody tr th {\n",
       "        vertical-align: top;\n",
       "    }\n",
       "\n",
       "    .dataframe thead th {\n",
       "        text-align: right;\n",
       "    }\n",
       "</style>\n",
       "<table border=\"1\" class=\"dataframe\">\n",
       "  <thead>\n",
       "    <tr style=\"text-align: right;\">\n",
       "      <th></th>\n",
       "      <th>srcid</th>\n",
       "      <th>destid</th>\n",
       "      <th>ds</th>\n",
       "      <th>yhat</th>\n",
       "    </tr>\n",
       "  </thead>\n",
       "  <tbody>\n",
       "    <tr>\n",
       "      <th>0</th>\n",
       "      <td>01</td>\n",
       "      <td>02</td>\n",
       "      <td>2023-03-01</td>\n",
       "      <td>0.007446</td>\n",
       "    </tr>\n",
       "    <tr>\n",
       "      <th>1</th>\n",
       "      <td>01</td>\n",
       "      <td>02</td>\n",
       "      <td>2023-03-02</td>\n",
       "      <td>0.006972</td>\n",
       "    </tr>\n",
       "    <tr>\n",
       "      <th>2</th>\n",
       "      <td>01</td>\n",
       "      <td>02</td>\n",
       "      <td>2023-03-03</td>\n",
       "      <td>0.006420</td>\n",
       "    </tr>\n",
       "    <tr>\n",
       "      <th>3</th>\n",
       "      <td>01</td>\n",
       "      <td>02</td>\n",
       "      <td>2023-03-04</td>\n",
       "      <td>0.006872</td>\n",
       "    </tr>\n",
       "    <tr>\n",
       "      <th>4</th>\n",
       "      <td>01</td>\n",
       "      <td>02</td>\n",
       "      <td>2023-03-05</td>\n",
       "      <td>0.007052</td>\n",
       "    </tr>\n",
       "    <tr>\n",
       "      <th>...</th>\n",
       "      <td>...</td>\n",
       "      <td>...</td>\n",
       "      <td>...</td>\n",
       "      <td>...</td>\n",
       "    </tr>\n",
       "    <tr>\n",
       "      <th>95</th>\n",
       "      <td>01</td>\n",
       "      <td>02</td>\n",
       "      <td>2023-06-04</td>\n",
       "      <td>0.006923</td>\n",
       "    </tr>\n",
       "    <tr>\n",
       "      <th>96</th>\n",
       "      <td>01</td>\n",
       "      <td>02</td>\n",
       "      <td>2023-06-05</td>\n",
       "      <td>0.007403</td>\n",
       "    </tr>\n",
       "    <tr>\n",
       "      <th>97</th>\n",
       "      <td>01</td>\n",
       "      <td>02</td>\n",
       "      <td>2023-06-06</td>\n",
       "      <td>0.008021</td>\n",
       "    </tr>\n",
       "    <tr>\n",
       "      <th>98</th>\n",
       "      <td>01</td>\n",
       "      <td>02</td>\n",
       "      <td>2023-06-07</td>\n",
       "      <td>0.007307</td>\n",
       "    </tr>\n",
       "    <tr>\n",
       "      <th>99</th>\n",
       "      <td>01</td>\n",
       "      <td>02</td>\n",
       "      <td>2023-06-08</td>\n",
       "      <td>0.006833</td>\n",
       "    </tr>\n",
       "  </tbody>\n",
       "</table>\n",
       "<p>100 rows × 4 columns</p>\n",
       "</div>"
      ],
      "text/plain": [
       "   srcid destid         ds      yhat\n",
       "0     01     02 2023-03-01  0.007446\n",
       "1     01     02 2023-03-02  0.006972\n",
       "2     01     02 2023-03-03  0.006420\n",
       "3     01     02 2023-03-04  0.006872\n",
       "4     01     02 2023-03-05  0.007052\n",
       "..   ...    ...        ...       ...\n",
       "95    01     02 2023-06-04  0.006923\n",
       "96    01     02 2023-06-05  0.007403\n",
       "97    01     02 2023-06-06  0.008021\n",
       "98    01     02 2023-06-07  0.007307\n",
       "99    01     02 2023-06-08  0.006833\n",
       "\n",
       "[100 rows x 4 columns]"
      ]
     },
     "execution_count": 146,
     "metadata": {},
     "output_type": "execute_result"
    }
   ],
   "source": [
    "appended_data.head(100)"
   ]
  },
  {
   "cell_type": "code",
   "execution_count": 147,
   "id": "9b3e34de",
   "metadata": {},
   "outputs": [],
   "source": [
    "data_final_prop = pd.merge(appended_data,final_total_forecast,on=\"ds\",how=\"outer\")"
   ]
  },
  {
   "cell_type": "code",
   "execution_count": 149,
   "id": "967fce66",
   "metadata": {},
   "outputs": [
    {
     "data": {
      "text/html": [
       "<div>\n",
       "<style scoped>\n",
       "    .dataframe tbody tr th:only-of-type {\n",
       "        vertical-align: middle;\n",
       "    }\n",
       "\n",
       "    .dataframe tbody tr th {\n",
       "        vertical-align: top;\n",
       "    }\n",
       "\n",
       "    .dataframe thead th {\n",
       "        text-align: right;\n",
       "    }\n",
       "</style>\n",
       "<table border=\"1\" class=\"dataframe\">\n",
       "  <thead>\n",
       "    <tr style=\"text-align: right;\">\n",
       "      <th></th>\n",
       "      <th>srcid</th>\n",
       "      <th>destid</th>\n",
       "      <th>ds</th>\n",
       "      <th>yhat_x</th>\n",
       "      <th>yhat_y</th>\n",
       "    </tr>\n",
       "  </thead>\n",
       "  <tbody>\n",
       "    <tr>\n",
       "      <th>0</th>\n",
       "      <td>01</td>\n",
       "      <td>02</td>\n",
       "      <td>2023-03-01</td>\n",
       "      <td>0.007446</td>\n",
       "      <td>148723.0</td>\n",
       "    </tr>\n",
       "    <tr>\n",
       "      <th>1</th>\n",
       "      <td>02</td>\n",
       "      <td>01</td>\n",
       "      <td>2023-03-01</td>\n",
       "      <td>0.008768</td>\n",
       "      <td>148723.0</td>\n",
       "    </tr>\n",
       "    <tr>\n",
       "      <th>2</th>\n",
       "      <td>02</td>\n",
       "      <td>14</td>\n",
       "      <td>2023-03-01</td>\n",
       "      <td>0.008217</td>\n",
       "      <td>148723.0</td>\n",
       "    </tr>\n",
       "    <tr>\n",
       "      <th>3</th>\n",
       "      <td>02</td>\n",
       "      <td>16</td>\n",
       "      <td>2023-03-01</td>\n",
       "      <td>0.008789</td>\n",
       "      <td>148723.0</td>\n",
       "    </tr>\n",
       "    <tr>\n",
       "      <th>4</th>\n",
       "      <td>02</td>\n",
       "      <td>19</td>\n",
       "      <td>2023-03-01</td>\n",
       "      <td>0.010848</td>\n",
       "      <td>148723.0</td>\n",
       "    </tr>\n",
       "  </tbody>\n",
       "</table>\n",
       "</div>"
      ],
      "text/plain": [
       "  srcid destid         ds    yhat_x    yhat_y\n",
       "0    01     02 2023-03-01  0.007446  148723.0\n",
       "1    02     01 2023-03-01  0.008768  148723.0\n",
       "2    02     14 2023-03-01  0.008217  148723.0\n",
       "3    02     16 2023-03-01  0.008789  148723.0\n",
       "4    02     19 2023-03-01  0.010848  148723.0"
      ]
     },
     "execution_count": 149,
     "metadata": {},
     "output_type": "execute_result"
    }
   ],
   "source": [
    "data_final_prop.head()"
   ]
  },
  {
   "cell_type": "code",
   "execution_count": 151,
   "id": "2c92e7ee",
   "metadata": {},
   "outputs": [],
   "source": [
    "data_final_prop[\"final_seatcount\"] = data_final_prop[\"yhat_x\"]*data_final_prop[\"yhat_y\"]\n",
    "data_final_prop[\"final_seatcount\"]=data_final_prop[\"final_seatcount\"].round()"
   ]
  },
  {
   "cell_type": "code",
   "execution_count": 160,
   "id": "af1534e6",
   "metadata": {},
   "outputs": [
    {
     "data": {
      "text/plain": [
       "<Axes: xlabel='ds'>"
      ]
     },
     "execution_count": 160,
     "metadata": {},
     "output_type": "execute_result"
    },
    {
     "data": {
      "image/png": "[encoded data removed]",
      "text/plain": [
       "<Figure size 640x480 with 1 Axes>"
      ]
     },
     "metadata": {},
     "output_type": "display_data"
    }
   ],
   "source": [
    "final_total_forecast[final_total_forecast[\"ds\"]>=\"2024-08-01\"].plot(\"ds\",\"yhat\")"
   ]
  },
  {
   "cell_type": "code",
   "execution_count": 157,
   "id": "389e687b",
   "metadata": {},
   "outputs": [
    {
     "data": {
      "text/html": [
       "<div>\n",
       "<style scoped>\n",
       "    .dataframe tbody tr th:only-of-type {\n",
       "        vertical-align: middle;\n",
       "    }\n",
       "\n",
       "    .dataframe tbody tr th {\n",
       "        vertical-align: top;\n",
       "    }\n",
       "\n",
       "    .dataframe thead th {\n",
       "        text-align: right;\n",
       "    }\n",
       "</style>\n",
       "<table border=\"1\" class=\"dataframe\">\n",
       "  <thead>\n",
       "    <tr style=\"text-align: right;\">\n",
       "      <th></th>\n",
       "      <th>ds</th>\n",
       "      <th>yhat</th>\n",
       "    </tr>\n",
       "  </thead>\n",
       "  <tbody>\n",
       "    <tr>\n",
       "      <th>0</th>\n",
       "      <td>2023-03-01</td>\n",
       "      <td>148723.0</td>\n",
       "    </tr>\n",
       "    <tr>\n",
       "      <th>1</th>\n",
       "      <td>2023-03-02</td>\n",
       "      <td>153089.0</td>\n",
       "    </tr>\n",
       "    <tr>\n",
       "      <th>2</th>\n",
       "      <td>2023-03-03</td>\n",
       "      <td>191048.0</td>\n",
       "    </tr>\n",
       "    <tr>\n",
       "      <th>3</th>\n",
       "      <td>2023-03-04</td>\n",
       "      <td>175484.0</td>\n",
       "    </tr>\n",
       "    <tr>\n",
       "      <th>4</th>\n",
       "      <td>2023-03-05</td>\n",
       "      <td>213446.0</td>\n",
       "    </tr>\n",
       "    <tr>\n",
       "      <th>...</th>\n",
       "      <td>...</td>\n",
       "      <td>...</td>\n",
       "    </tr>\n",
       "    <tr>\n",
       "      <th>95</th>\n",
       "      <td>2023-06-04</td>\n",
       "      <td>220332.0</td>\n",
       "    </tr>\n",
       "    <tr>\n",
       "      <th>96</th>\n",
       "      <td>2023-06-05</td>\n",
       "      <td>172309.0</td>\n",
       "    </tr>\n",
       "    <tr>\n",
       "      <th>97</th>\n",
       "      <td>2023-06-06</td>\n",
       "      <td>151099.0</td>\n",
       "    </tr>\n",
       "    <tr>\n",
       "      <th>98</th>\n",
       "      <td>2023-06-07</td>\n",
       "      <td>156139.0</td>\n",
       "    </tr>\n",
       "    <tr>\n",
       "      <th>99</th>\n",
       "      <td>2023-06-08</td>\n",
       "      <td>160505.0</td>\n",
       "    </tr>\n",
       "  </tbody>\n",
       "</table>\n",
       "<p>100 rows × 2 columns</p>\n",
       "</div>"
      ],
      "text/plain": [
       "           ds      yhat\n",
       "0  2023-03-01  148723.0\n",
       "1  2023-03-02  153089.0\n",
       "2  2023-03-03  191048.0\n",
       "3  2023-03-04  175484.0\n",
       "4  2023-03-05  213446.0\n",
       "..        ...       ...\n",
       "95 2023-06-04  220332.0\n",
       "96 2023-06-05  172309.0\n",
       "97 2023-06-06  151099.0\n",
       "98 2023-06-07  156139.0\n",
       "99 2023-06-08  160505.0\n",
       "\n",
       "[100 rows x 2 columns]"
      ]
     },
     "execution_count": 157,
     "metadata": {},
     "output_type": "execute_result"
    }
   ],
   "source": [
    "final_total_forecast.head(100)"
   ]
  },
  {
   "cell_type": "code",
   "execution_count": 153,
   "id": "1b4cbf66",
   "metadata": {},
   "outputs": [],
   "source": [
    "final_submission = data_final_prop[data_final_prop[\"ds\"]>\"2024-12-31\"]\n",
    "final_submission = final_submission[final_submission[\"ds\"]< \"2025-03-01\"]\n",
    "final_submission[\"route_key\"] = final_submission['ds'].astype(str)+\"_\"+final_submission[\"srcid\"].astype(str)+\"_\"+final_submission[\"destid\"].astype(str)\n",
    "final_submission = final_submission[[\"route_key\",\"final_seatcount\"]]\n",
    "final_submission.to_csv(\"final_submission.csv\")\n"
   ]
  },
  {
   "cell_type": "code",
   "execution_count": 162,
   "id": "04b3e20b",
   "metadata": {},
   "outputs": [
    {
     "name": "stdout",
     "output_type": "stream",
     "text": [
      "Mean Absolute Error (MAE) on the test set: 346.07\n",
      "\n",
      "Predictions for the next 60 days:\n",
      "| doj                 | srcid   | destid   | predicted_final_seatcount   |\n",
      "|:--------------------|:--------|:---------|:----------------------------|\n",
      "| 2025-01-01 00:00:00 | 45      | 46       | 5068.12                     |\n",
      "| 2025-01-02 00:00:00 | 45      | 46       | 3884.2                      |\n",
      "| 2025-01-03 00:00:00 | 45      | 46       | 4665.86                     |\n",
      "| 2025-01-04 00:00:00 | 45      | 46       | 3663.92                     |\n",
      "| 2025-01-05 00:00:00 | 45      | 46       | 4459.28                     |\n",
      "<class 'pandas.core.frame.DataFrame'>\n",
      "RangeIndex: 6000 entries, 0 to 5999\n",
      "Data columns (total 4 columns):\n",
      " #   Column                     Non-Null Count  Dtype         \n",
      "---  ------                     --------------  -----         \n",
      " 0   doj                        6000 non-null   datetime64[ns]\n",
      " 1   srcid                      6000 non-null   int64         \n",
      " 2   destid                     6000 non-null   int64         \n",
      " 3   predicted_final_seatcount  6000 non-null   float64       \n",
      "dtypes: datetime64[ns](1), float64(1), int64(2)\n",
      "memory usage: 187.6 KB\n",
      "None\n"
     ]
    }
   ],
   "source": [
    "import pandas as pd\n",
    "from sklearn.model_selection import train_test_split\n",
    "from sklearn.ensemble import RandomForestRegressor\n",
    "from sklearn.metrics import mean_absolute_error\n",
    "from sklearn.preprocessing import LabelEncoder\n",
    "import numpy as np\n",
    "\n",
    "# 1. Load the data\n",
    "df = pd.read_csv('train/train.csv')\n",
    "\n",
    "# 2. Feature Engineering\n",
    "df['doj'] = pd.to_datetime(df['doj'])\n",
    "df['dayofweek'] = df['doj'].dt.dayofweek\n",
    "df['dayofmonth'] = df['doj'].dt.day\n",
    "df['month'] = df['doj'].dt.month\n",
    "df['year'] = df['doj'].dt.year\n",
    "\n",
    "# 3. Encode srcid and destid\n",
    "le_src = LabelEncoder()\n",
    "le_dest = LabelEncoder()\n",
    "df['srcid_encoded'] = le_src.fit_transform(df['srcid'])\n",
    "df['destid_encoded'] = le_dest.fit_transform(df['destid'])\n",
    "\n",
    "# Define features (X) and target (y)\n",
    "features = ['dayofweek', 'dayofmonth', 'month', 'year', 'srcid_encoded', 'destid_encoded']\n",
    "target = 'final_seatcount'\n",
    "\n",
    "X = df[features]\n",
    "y = df[target]\n",
    "\n",
    "# 4. Split data into training and testing sets (95% train, 5% test)\n",
    "X_train, X_test, y_train, y_test = train_test_split(X, y, test_size=0.05, random_state=42)\n",
    "\n",
    "# 5. Initialize and train the RandomForestRegressor model\n",
    "model = RandomForestRegressor(n_estimators=100, random_state=42, n_jobs=-1)\n",
    "model.fit(X_train, y_train)\n",
    "\n",
    "# 6. Predict on the test set and evaluate the model\n",
    "y_pred = model.predict(X_test)\n",
    "mae = mean_absolute_error(y_test, y_pred)\n",
    "print(f\"Mean Absolute Error (MAE) on the test set: {mae:.2f}\")\n",
    "\n",
    "# 7. Generate predictions for the next 60 days\n",
    "# Determine the last date in the historical data\n",
    "last_historical_date = df['doj'].max()\n",
    "\n",
    "# Generate future dates for the next 60 days\n",
    "future_dates = pd.date_range(start=last_historical_date + pd.Timedelta(days=1), periods=60)\n",
    "\n",
    "# Get all unique route combinations from the original data\n",
    "unique_routes_historical = df[['srcid', 'destid']].drop_duplicates()\n",
    "\n",
    "# Create a DataFrame for future predictions\n",
    "future_predictions = []\n",
    "\n",
    "for _, row in unique_routes_historical.iterrows():\n",
    "    srcid = row['srcid']\n",
    "    destid = row['destid']\n",
    "\n",
    "    # Create a DataFrame for each route's future dates\n",
    "    route_future_df = pd.DataFrame({'doj': future_dates})\n",
    "    route_future_df['srcid'] = srcid\n",
    "    route_future_df['destid'] = destid\n",
    "\n",
    "    future_predictions.append(route_future_df)\n",
    "\n",
    "# Concatenate all future prediction DataFrames\n",
    "future_df = pd.concat(future_predictions).reset_index(drop=True)\n",
    "\n",
    "# Feature engineer for future_df\n",
    "future_df['dayofweek'] = future_df['doj'].dt.dayofweek\n",
    "future_df['dayofmonth'] = future_df['doj'].dt.day\n",
    "future_df['month'] = future_df['doj'].dt.month\n",
    "future_df['year'] = future_df['doj'].dt.year\n",
    "\n",
    "# Encode srcid and destid for future_df using the *fitted* LabelEncoders\n",
    "# Handle unseen srcid/destid in future data by assigning -1\n",
    "def safe_transform(le, val):\n",
    "    try:\n",
    "        return le.transform([val])[0]\n",
    "    except ValueError:\n",
    "        return -1 # Assign -1 for unseen values, these rows will be filtered\n",
    "\n",
    "future_df['srcid_encoded'] = future_df['srcid'].apply(lambda x: safe_transform(le_src, x))\n",
    "future_df['destid_encoded'] = future_df['destid'].apply(lambda x: safe_transform(le_dest, x))\n",
    "\n",
    "# Filter out rows where encoding failed (e.g., -1 was assigned for unseen values)\n",
    "future_df = future_df[\n",
    "    (future_df['srcid_encoded'] != -1) &\n",
    "    (future_df['destid_encoded'] != -1)\n",
    "]\n",
    "\n",
    "# Ensure the feature columns match the training features\n",
    "X_future = future_df[features]\n",
    "\n",
    "# Predict future final_seatcount\n",
    "future_df['predicted_final_seatcount'] = model.predict(X_future)\n",
    "\n",
    "# Ensure predictions are non-negative\n",
    "future_df['predicted_final_seatcount'] = future_df['predicted_final_seatcount'].apply(lambda x: max(0, x))\n",
    "\n",
    "# Display the first few rows of the predictions\n",
    "print(\"\\nPredictions for the next 60 days:\")\n",
    "print(future_df[['doj', 'srcid', 'destid', 'predicted_final_seatcount']].head().to_markdown(index=False, numalign=\"left\", stralign=\"left\"))\n",
    "\n",
    "# Display info about the predictions DataFrame\n",
    "print(future_df[['doj', 'srcid', 'destid', 'predicted_final_seatcount']].info())"
   ]
  },
  {
   "cell_type": "code",
   "execution_count": 167,
   "id": "21bc0efe",
   "metadata": {},
   "outputs": [],
   "source": [
    "future_df[future_df[\"srcid_encoded\"]==1].head()\n",
    "\n",
    "future_df['srcid'] = future_df['srcid'].astype(str)\n",
    "future_df['destid'] = future_df['destid'].astype(str)\n",
    "future_df['srcid']=  future_df['srcid'].str.zfill(2)\n",
    "future_df['destid'] = future_df['destid'].str.zfill(2)"
   ]
  },
  {
   "cell_type": "code",
   "execution_count": null,
   "id": "4a960af2",
   "metadata": {},
   "outputs": [
    {
     "data": {
      "text/html": [
       "<div>\n",
       "<style scoped>\n",
       "    .dataframe tbody tr th:only-of-type {\n",
       "        vertical-align: middle;\n",
       "    }\n",
       "\n",
       "    .dataframe tbody tr th {\n",
       "        vertical-align: top;\n",
       "    }\n",
       "\n",
       "    .dataframe thead th {\n",
       "        text-align: right;\n",
       "    }\n",
       "</style>\n",
       "<table border=\"1\" class=\"dataframe\">\n",
       "  <thead>\n",
       "    <tr style=\"text-align: right;\">\n",
       "      <th></th>\n",
       "      <th>doj</th>\n",
       "      <th>srcid</th>\n",
       "      <th>destid</th>\n",
       "      <th>dayofweek</th>\n",
       "      <th>dayofmonth</th>\n",
       "      <th>month</th>\n",
       "      <th>year</th>\n",
       "      <th>srcid_encoded</th>\n",
       "      <th>destid_encoded</th>\n",
       "      <th>predicted_final_seatcount</th>\n",
       "    </tr>\n",
       "  </thead>\n",
       "  <tbody>\n",
       "    <tr>\n",
       "      <th>1020</th>\n",
       "      <td>2025-01-01</td>\n",
       "      <td>02</td>\n",
       "      <td>40</td>\n",
       "      <td>2</td>\n",
       "      <td>1</td>\n",
       "      <td>1</td>\n",
       "      <td>2025</td>\n",
       "      <td>1</td>\n",
       "      <td>36</td>\n",
       "      <td>2502.76</td>\n",
       "    </tr>\n",
       "    <tr>\n",
       "      <th>1021</th>\n",
       "      <td>2025-01-02</td>\n",
       "      <td>02</td>\n",
       "      <td>40</td>\n",
       "      <td>3</td>\n",
       "      <td>2</td>\n",
       "      <td>1</td>\n",
       "      <td>2025</td>\n",
       "      <td>1</td>\n",
       "      <td>36</td>\n",
       "      <td>2275.32</td>\n",
       "    </tr>\n",
       "    <tr>\n",
       "      <th>1022</th>\n",
       "      <td>2025-01-03</td>\n",
       "      <td>02</td>\n",
       "      <td>40</td>\n",
       "      <td>4</td>\n",
       "      <td>3</td>\n",
       "      <td>1</td>\n",
       "      <td>2025</td>\n",
       "      <td>1</td>\n",
       "      <td>36</td>\n",
       "      <td>2668.16</td>\n",
       "    </tr>\n",
       "    <tr>\n",
       "      <th>1023</th>\n",
       "      <td>2025-01-04</td>\n",
       "      <td>02</td>\n",
       "      <td>40</td>\n",
       "      <td>5</td>\n",
       "      <td>4</td>\n",
       "      <td>1</td>\n",
       "      <td>2025</td>\n",
       "      <td>1</td>\n",
       "      <td>36</td>\n",
       "      <td>2432.20</td>\n",
       "    </tr>\n",
       "    <tr>\n",
       "      <th>1024</th>\n",
       "      <td>2025-01-05</td>\n",
       "      <td>02</td>\n",
       "      <td>40</td>\n",
       "      <td>6</td>\n",
       "      <td>5</td>\n",
       "      <td>1</td>\n",
       "      <td>2025</td>\n",
       "      <td>1</td>\n",
       "      <td>36</td>\n",
       "      <td>2129.76</td>\n",
       "    </tr>\n",
       "  </tbody>\n",
       "</table>\n",
       "</div>"
      ],
      "text/plain": [
       "            doj srcid destid  dayofweek  dayofmonth  month  year  \\\n",
       "1020 2025-01-01    02     40          2           1      1  2025   \n",
       "1021 2025-01-02    02     40          3           2      1  2025   \n",
       "1022 2025-01-03    02     40          4           3      1  2025   \n",
       "1023 2025-01-04    02     40          5           4      1  2025   \n",
       "1024 2025-01-05    02     40          6           5      1  2025   \n",
       "\n",
       "      srcid_encoded  destid_encoded  predicted_final_seatcount  \n",
       "1020              1              36                    2502.76  \n",
       "1021              1              36                    2275.32  \n",
       "1022              1              36                    2668.16  \n",
       "1023              1              36                    2432.20  \n",
       "1024              1              36                    2129.76  "
      ]
     },
     "execution_count": 168,
     "metadata": {},
     "output_type": "execute_result"
    }
   ],
   "source": [
    "future_df[future_df[\"srcid_encoded\"]==1].head()\n",
    "\n"
   ]
  },
  {
   "cell_type": "code",
   "execution_count": 173,
   "id": "c1818350",
   "metadata": {},
   "outputs": [],
   "source": [
    "final_submission = future_df[future_df[\"doj\"]>\"2024-12-31\"]\n",
    "final_submission = final_submission[final_submission[\"doj\"]< \"2025-03-01\"]\n",
    "final_submission = final_submission.rename({\"doj\":\"ds\",\"predicted_final_seatcount\":\"final_seatcount\"},axis=1)\n",
    "final_submission[\"route_key\"] = final_submission['ds'].astype(str)+\"_\"+final_submission[\"srcid\"].astype(str)+\"_\"+final_submission[\"destid\"].astype(str)\n",
    "final_submission = final_submission[[\"route_key\",\"final_seatcount\"]]\n",
    "final_submission[\"final_seatcount\"] = final_submission.final_seatcount.round()\n",
    "final_submission.to_csv(\"final_submission.csv\",index=False)"
   ]
  },
  {
   "cell_type": "markdown",
   "id": "c22031a0",
   "metadata": {},
   "source": [
    "### going to try SARIMAX"
   ]
  },
  {
   "cell_type": "code",
   "execution_count": 185,
   "id": "586e6179",
   "metadata": {},
   "outputs": [
    {
     "name": "stdout",
     "output_type": "stream",
     "text": [
      "Starting SARIMAX forecasting for 100 routes...\n",
      "Processing route 1/100: 01_02\n",
      "Processing route 2/100: 45_44\n",
      "Processing route 3/100: 45_42\n",
      "Processing route 4/100: 45_39\n",
      "Processing route 5/100: 45_34\n",
      "Processing route 6/100: 45_28\n",
      "Processing route 7/100: 45_09\n",
      "Processing route 8/100: 45_05\n",
      "Processing route 9/100: 45_03\n",
      "Processing route 10/100: 44_46\n",
      "Processing route 11/100: 44_45\n",
      "Processing route 12/100: 43_47\n",
      "Processing route 13/100: 42_45\n",
      "Processing route 14/100: 41_36\n",
      "Processing route 15/100: 40_02\n",
      "Processing route 16/100: 39_45\n",
      "Processing route 17/100: 38_36\n",
      "Processing route 18/100: 37_36\n",
      "Processing route 19/100: 36_41\n",
      "Processing route 20/100: 36_37\n",
      "Processing route 21/100: 36_27\n",
      "Processing route 22/100: 36_22\n",
      "Processing route 23/100: 45_46\n",
      "Processing route 24/100: 45_48\n",
      "Processing route 25/100: 46_09\n",
      "Processing route 26/100: 46_15\n",
      "Processing route 27/100: 48_46\n",
      "Processing route 28/100: 48_45\n",
      "Processing route 29/100: 47_46\n",
      "Processing route 30/100: 47_45\n",
      "Processing route 31/100: 47_43\n",
      "Processing route 32/100: 47_30\n",
      "Processing route 33/100: 47_28\n",
      "Processing route 34/100: 47_10\n",
      "Processing route 35/100: 47_08\n",
      "Processing route 36/100: 47_06\n",
      "Processing route 37/100: 36_12\n",
      "Processing route 38/100: 47_05\n",
      "Processing route 39/100: 47_02\n",
      "Processing route 40/100: 46_48\n",
      "Processing route 41/100: 46_47\n",
      "Processing route 42/100: 46_45\n",
      "Processing route 43/100: 46_44\n",
      "Processing route 44/100: 46_35\n",
      "Processing route 45/100: 46_33\n",
      "Processing route 46/100: 46_26\n",
      "Processing route 47/100: 46_20\n",
      "Processing route 48/100: 46_18\n",
      "Processing route 49/100: 47_03\n",
      "Processing route 50/100: 36_11\n",
      "Processing route 51/100: 45_47\n",
      "Processing route 52/100: 35_46\n",
      "Processing route 53/100: 12_36\n",
      "Processing route 54/100: 11_36\n",
      "Processing route 55/100: 09_46\n",
      "Processing route 56/100: 09_45\n",
      "Processing route 57/100: 08_47\n",
      "Processing route 58/100: 07_36\n",
      "Processing route 59/100: 06_47\n",
      "Processing route 60/100: 05_47\n",
      "Processing route 61/100: 05_45\n",
      "Processing route 62/100: 03_47\n",
      "Processing route 63/100: 13_23\n",
      "Processing route 64/100: 03_45\n",
      "Processing route 65/100: 02_40\n",
      "Processing route 66/100: 02_31\n",
      "Processing route 67/100: 02_30\n",
      "Processing route 68/100: 02_24\n",
      "Processing route 69/100: 02_21\n",
      "Processing route 70/100: 02_19\n",
      "Processing route 71/100: 02_16\n",
      "Processing route 72/100: 02_14\n",
      "Processing route 73/100: 02_01\n",
      "Processing route 74/100: 36_07\n",
      "Processing route 75/100: 02_47\n",
      "Processing route 76/100: 14_30\n",
      "Processing route 77/100: 04_29\n",
      "Processing route 78/100: 34_45\n",
      "Processing route 79/100: 15_46\n",
      "Processing route 80/100: 33_46\n",
      "Processing route 81/100: 32_19\n",
      "Processing route 82/100: 31_02\n",
      "Processing route 83/100: 30_14\n",
      "Processing route 84/100: 30_02\n",
      "Processing route 85/100: 28_47\n",
      "Processing route 86/100: 27_36\n",
      "Processing route 87/100: 26_46\n",
      "Processing route 88/100: 25_23\n",
      "Processing route 89/100: 23_25\n",
      "Processing route 90/100: 28_45\n",
      "Processing route 91/100: 16_02\n",
      "Processing route 92/100: 22_36\n",
      "Processing route 93/100: 21_02\n",
      "Processing route 94/100: 20_46\n",
      "Processing route 95/100: 19_32\n",
      "Processing route 96/100: 19_30\n",
      "Processing route 97/100: 19_02\n",
      "Processing route 98/100: 18_46\n",
      "Processing route 99/100: 17_23\n",
      "Processing route 100/100: 23_13\n",
      "\n",
      "Final SARIMAX Predictions for the next 60 days (first 5 rows):\n",
      "| ds                  | yhat    | route_id   |\n",
      "|:--------------------|:--------|:-----------|\n",
      "| 2025-01-01 00:00:00 | 1282.28 | 01_02      |\n",
      "| 2025-01-02 00:00:00 | 1244.42 | 01_02      |\n",
      "| 2025-01-03 00:00:00 | 1365.4  | 01_02      |\n",
      "| 2025-01-04 00:00:00 | 1370.34 | 01_02      |\n",
      "| 2025-01-05 00:00:00 | 1668.59 | 01_02      |\n",
      "<class 'pandas.core.frame.DataFrame'>\n",
      "RangeIndex: 6000 entries, 0 to 5999\n",
      "Data columns (total 3 columns):\n",
      " #   Column    Non-Null Count  Dtype         \n",
      "---  ------    --------------  -----         \n",
      " 0   ds        6000 non-null   datetime64[ns]\n",
      " 1   yhat      6000 non-null   float64       \n",
      " 2   route_id  6000 non-null   object        \n",
      "dtypes: datetime64[ns](1), float64(1), object(1)\n",
      "memory usage: 140.8+ KB\n",
      "None\n"
     ]
    }
   ],
   "source": [
    "import pandas as pd\n",
    "from statsmodels.tsa.statespace.sarimax import SARIMAX\n",
    "import warnings\n",
    "\n",
    "warnings.filterwarnings(\"ignore\") # Suppress convergence warnings\n",
    "\n",
    "# Load the data\n",
    "df = pd.read_csv('train/train.csv')\n",
    "\n",
    "# Convert 'doj' to datetime\n",
    "df['doj'] = pd.to_datetime(df['doj'])\n",
    "\n",
    "# Create a unique route identifier\n",
    "df['route_id'] = df['srcid'].astype(str).str.zfill(2) + '_' + df['destid'].astype(str).str.zfill(2)\n",
    "\n",
    "# Aggregate final_seatcount by doj and route_id\n",
    "df_agg = df.groupby(['doj', 'route_id'])['final_seatcount'].sum().reset_index()\n",
    "\n",
    "# Sort by date for time series modeling\n",
    "df_agg = df_agg.sort_values(by='doj')\n",
    "\n",
    "unique_routes = df_agg['route_id'].unique()\n",
    "all_sarimax_predictions = []\n",
    "\n",
    "print(f\"Starting SARIMAX forecasting for {len(unique_routes)} routes...\")\n",
    "\n",
    "for i, route_id in enumerate(unique_routes):\n",
    "    print(f\"Processing route {i+1}/{len(unique_routes)}: {route_id}\")\n",
    "\n",
    "    # Filter data for the current route\n",
    "    route_df = df_agg[df_agg['route_id'] == route_id].copy()\n",
    "    route_df.set_index('doj', inplace=True)\n",
    "\n",
    "    # Ensure the series is continuous for SARIMAX (fill missing dates if any)\n",
    "    # This step is crucial for time series models assuming regular frequency\n",
    "    idx = pd.date_range(start=route_df.index.min(), end=route_df.index.max(), freq='D')\n",
    "    route_df = route_df.reindex(idx, fill_value=0) # Fill missing seat counts with 0 or NaN, depending on assumption\n",
    "                                                    # Using 0 here for simplicity, NaN could also be forward-filled/interpolated\n",
    "    # Use fillna(0) to ensure no NaN values in the series for SARIMAX, or resample and sum\n",
    "    route_df['final_seatcount'] = route_df['final_seatcount'].fillna(0)\n",
    "\n",
    "\n",
    "    try:\n",
    "        # Define SARIMAX model parameters\n",
    "        # order=(p,d,q) and seasonal_order=(P,D,Q,s)\n",
    "        # Assuming daily data with weekly seasonality (s=7)\n",
    "        sarimax_model = SARIMAX(\n",
    "            route_df['final_seatcount'],\n",
    "            order=(1, 1, 1),           # Non-seasonal p, d, q\n",
    "            seasonal_order=(1, 1, 1, 7), # Seasonal P, D, Q, s (s=7 for weekly)\n",
    "            enforce_stationarity=False,\n",
    "            enforce_invertibility=False\n",
    "        )\n",
    "        sarimax_fit = sarimax_model.fit(disp=False) # disp=False to suppress optimization output\n",
    "\n",
    "        # Predict the next 60 days\n",
    "        forecast_steps = 60\n",
    "        forecast = sarimax_fit.predict(start=len(route_df), end=len(route_df) + forecast_steps - 1)\n",
    "\n",
    "        # Create a DataFrame for predictions\n",
    "        future_dates = pd.date_range(start=route_df.index.max() + pd.Timedelta(days=1), periods=forecast_steps)\n",
    "        predictions_df = pd.DataFrame({\n",
    "            'ds': future_dates,\n",
    "            'yhat': forecast.values,\n",
    "            'route_id': route_id\n",
    "        })\n",
    "\n",
    "        # Ensure predictions are non-negative\n",
    "        predictions_df['yhat'] = predictions_df['yhat'].apply(lambda x: max(0, x))\n",
    "\n",
    "        all_sarimax_predictions.append(predictions_df)\n",
    "\n",
    "    except Exception as e:\n",
    "        print(f\"  Error fitting SARIMAX for route {route_id}: {e}\")\n",
    "        # In case of error, append placeholder for this route\n",
    "        future_dates_error = pd.date_range(start=route_df.index.max() + pd.Timedelta(days=1), periods=60)\n",
    "        error_df = pd.DataFrame({\n",
    "            'ds': future_dates_error,\n",
    "            'yhat': 0, # Assign 0 or NaN for routes with errors\n",
    "            'route_id': route_id\n",
    "        })\n",
    "        all_sarimax_predictions.append(error_df)\n",
    "\n",
    "# Concatenate all predictions into a single DataFrame\n",
    "final_sarimax_predictions_df = pd.concat(all_sarimax_predictions).reset_index(drop=True)\n",
    "\n",
    "# Display the first 5 rows of the final predictions DataFrame\n",
    "print(\"\\nFinal SARIMAX Predictions for the next 60 days (first 5 rows):\")\n",
    "print(final_sarimax_predictions_df.head().to_markdown(index=False, numalign=\"left\", stralign=\"left\"))\n",
    "\n",
    "# Display info about the predictions DataFrame\n",
    "print(final_sarimax_predictions_df.info())"
   ]
  },
  {
   "cell_type": "code",
   "execution_count": 189,
   "id": "e0614975",
   "metadata": {},
   "outputs": [
    {
     "data": {
      "text/html": [
       "<div>\n",
       "<style scoped>\n",
       "    .dataframe tbody tr th:only-of-type {\n",
       "        vertical-align: middle;\n",
       "    }\n",
       "\n",
       "    .dataframe tbody tr th {\n",
       "        vertical-align: top;\n",
       "    }\n",
       "\n",
       "    .dataframe thead th {\n",
       "        text-align: right;\n",
       "    }\n",
       "</style>\n",
       "<table border=\"1\" class=\"dataframe\">\n",
       "  <thead>\n",
       "    <tr style=\"text-align: right;\">\n",
       "      <th></th>\n",
       "      <th>ds</th>\n",
       "      <th>yhat</th>\n",
       "      <th>route_id</th>\n",
       "    </tr>\n",
       "  </thead>\n",
       "  <tbody>\n",
       "    <tr>\n",
       "      <th>0</th>\n",
       "      <td>2025-01-01</td>\n",
       "      <td>1282.275836</td>\n",
       "      <td>01_02</td>\n",
       "    </tr>\n",
       "    <tr>\n",
       "      <th>1</th>\n",
       "      <td>2025-01-02</td>\n",
       "      <td>1244.416085</td>\n",
       "      <td>01_02</td>\n",
       "    </tr>\n",
       "    <tr>\n",
       "      <th>2</th>\n",
       "      <td>2025-01-03</td>\n",
       "      <td>1365.402758</td>\n",
       "      <td>01_02</td>\n",
       "    </tr>\n",
       "    <tr>\n",
       "      <th>3</th>\n",
       "      <td>2025-01-04</td>\n",
       "      <td>1370.342316</td>\n",
       "      <td>01_02</td>\n",
       "    </tr>\n",
       "    <tr>\n",
       "      <th>4</th>\n",
       "      <td>2025-01-05</td>\n",
       "      <td>1668.594325</td>\n",
       "      <td>01_02</td>\n",
       "    </tr>\n",
       "  </tbody>\n",
       "</table>\n",
       "</div>"
      ],
      "text/plain": [
       "          ds         yhat route_id\n",
       "0 2025-01-01  1282.275836    01_02\n",
       "1 2025-01-02  1244.416085    01_02\n",
       "2 2025-01-03  1365.402758    01_02\n",
       "3 2025-01-04  1370.342316    01_02\n",
       "4 2025-01-05  1668.594325    01_02"
      ]
     },
     "execution_count": 189,
     "metadata": {},
     "output_type": "execute_result"
    }
   ],
   "source": [
    "final_sarimax_predictions_df.head()"
   ]
  },
  {
   "cell_type": "code",
   "execution_count": 190,
   "id": "ab4eedc0",
   "metadata": {},
   "outputs": [],
   "source": [
    "\n",
    "\n",
    "\n",
    "final_submission = final_sarimax_predictions_df[final_sarimax_predictions_df[\"ds\"]>\"2024-12-31\"]\n",
    "final_submission = final_submission[final_submission[\"ds\"]< \"2025-03-01\"]\n",
    "final_submission = final_submission.rename({\"yhat\":\"final_seatcount\"},axis=1)\n",
    "final_submission[\"route_key\"] = final_submission['ds'].astype(str)+\"_\"+final_submission[\"route_id\"].astype(str)\n",
    "final_submission = final_submission[[\"route_key\",\"final_seatcount\"]]\n",
    "final_submission[\"final_seatcount\"] = final_submission.final_seatcount.round()\n",
    "final_submission.to_csv(\"final_submission.csv\",index=False)"
   ]
  },
  {
   "cell_type": "code",
   "execution_count": 191,
   "id": "d0791f46",
   "metadata": {},
   "outputs": [
    {
     "data": {
      "text/html": [
       "<div>\n",
       "<style scoped>\n",
       "    .dataframe tbody tr th:only-of-type {\n",
       "        vertical-align: middle;\n",
       "    }\n",
       "\n",
       "    .dataframe tbody tr th {\n",
       "        vertical-align: top;\n",
       "    }\n",
       "\n",
       "    .dataframe thead th {\n",
       "        text-align: right;\n",
       "    }\n",
       "</style>\n",
       "<table border=\"1\" class=\"dataframe\">\n",
       "  <thead>\n",
       "    <tr style=\"text-align: right;\">\n",
       "      <th></th>\n",
       "      <th>route_key</th>\n",
       "      <th>final_seatcount</th>\n",
       "    </tr>\n",
       "  </thead>\n",
       "  <tbody>\n",
       "    <tr>\n",
       "      <th>0</th>\n",
       "      <td>2025-01-01_01_02</td>\n",
       "      <td>1282.0</td>\n",
       "    </tr>\n",
       "    <tr>\n",
       "      <th>1</th>\n",
       "      <td>2025-01-02_01_02</td>\n",
       "      <td>1244.0</td>\n",
       "    </tr>\n",
       "    <tr>\n",
       "      <th>2</th>\n",
       "      <td>2025-01-03_01_02</td>\n",
       "      <td>1365.0</td>\n",
       "    </tr>\n",
       "    <tr>\n",
       "      <th>3</th>\n",
       "      <td>2025-01-04_01_02</td>\n",
       "      <td>1370.0</td>\n",
       "    </tr>\n",
       "    <tr>\n",
       "      <th>4</th>\n",
       "      <td>2025-01-05_01_02</td>\n",
       "      <td>1669.0</td>\n",
       "    </tr>\n",
       "  </tbody>\n",
       "</table>\n",
       "</div>"
      ],
      "text/plain": [
       "          route_key  final_seatcount\n",
       "0  2025-01-01_01_02           1282.0\n",
       "1  2025-01-02_01_02           1244.0\n",
       "2  2025-01-03_01_02           1365.0\n",
       "3  2025-01-04_01_02           1370.0\n",
       "4  2025-01-05_01_02           1669.0"
      ]
     },
     "execution_count": 191,
     "metadata": {},
     "output_type": "execute_result"
    }
   ],
   "source": [
    "final_submission.head()"
   ]
  },
  {
   "cell_type": "code",
   "execution_count": 192,
   "id": "f8892c2e",
   "metadata": {},
   "outputs": [],
   "source": [
    "### SARIMAX"
   ]
  },
  {
   "cell_type": "code",
   "execution_count": 194,
   "id": "b6406a70",
   "metadata": {},
   "outputs": [
    {
     "name": "stdout",
     "output_type": "stream",
     "text": [
      "Starting SARIMAX forecasting with parameter search for 100 routes. This may take a while...\n",
      "\n",
      "Processing route 1/100: 01_02\n",
      "  Best SARIMAX model for 01_02 has order ((1, 1, 1), (1, 1, 1, 7)) with AIC: 8939.27\n",
      "\n",
      "Processing route 2/100: 45_44\n",
      "  Best SARIMAX model for 45_44 has order ((1, 1, 1), (1, 1, 1, 7)) with AIC: 9266.49\n",
      "\n",
      "Processing route 3/100: 45_42\n",
      "  Best SARIMAX model for 45_42 has order ((1, 1, 1), (1, 1, 1, 7)) with AIC: 9728.11\n",
      "\n",
      "Processing route 4/100: 45_39\n",
      "  Best SARIMAX model for 45_39 has order ((1, 1, 1), (1, 1, 1, 7)) with AIC: 9866.71\n",
      "\n",
      "Processing route 5/100: 45_34\n",
      "  Best SARIMAX model for 45_34 has order ((1, 1, 1), (1, 1, 1, 7)) with AIC: 10209.85\n",
      "\n",
      "Processing route 6/100: 45_28\n",
      "  Best SARIMAX model for 45_28 has order ((1, 1, 1), (1, 1, 1, 7)) with AIC: 10068.66\n",
      "\n",
      "Processing route 7/100: 45_09\n",
      "  Best SARIMAX model for 45_09 has order ((1, 1, 1), (1, 1, 1, 7)) with AIC: 10262.17\n",
      "\n",
      "Processing route 8/100: 45_05\n",
      "  Best SARIMAX model for 45_05 has order ((1, 1, 1), (1, 1, 1, 7)) with AIC: 9795.18\n",
      "\n",
      "Processing route 9/100: 45_03\n",
      "  Best SARIMAX model for 45_03 has order ((1, 1, 1), (1, 1, 1, 7)) with AIC: 9443.81\n",
      "\n",
      "Processing route 10/100: 44_46\n",
      "  Best SARIMAX model for 44_46 has order ((1, 1, 1), (1, 1, 1, 7)) with AIC: 10667.54\n",
      "\n",
      "Processing route 11/100: 44_45\n",
      "  Best SARIMAX model for 44_45 has order ((1, 1, 1), (1, 1, 1, 7)) with AIC: 9304.78\n",
      "\n",
      "Processing route 12/100: 43_47\n",
      "  Best SARIMAX model for 43_47 has order ((1, 1, 1), (1, 1, 1, 7)) with AIC: 10057.29\n",
      "\n",
      "Processing route 13/100: 42_45\n",
      "  Best SARIMAX model for 42_45 has order ((1, 1, 1), (1, 1, 1, 7)) with AIC: 9641.70\n",
      "\n",
      "Processing route 14/100: 41_36\n",
      "  Best SARIMAX model for 41_36 has order ((1, 1, 1), (1, 1, 1, 7)) with AIC: 10032.89\n",
      "\n",
      "Processing route 15/100: 40_02\n",
      "  Best SARIMAX model for 40_02 has order ((1, 1, 1), (1, 1, 1, 7)) with AIC: 10074.32\n",
      "\n",
      "Processing route 16/100: 39_45\n",
      "  Best SARIMAX model for 39_45 has order ((1, 1, 1), (1, 1, 1, 7)) with AIC: 10045.14\n",
      "\n",
      "Processing route 17/100: 38_36\n",
      "  Best SARIMAX model for 38_36 has order ((1, 1, 1), (1, 1, 1, 7)) with AIC: 9824.78\n",
      "\n",
      "Processing route 18/100: 37_36\n",
      "  Best SARIMAX model for 37_36 has order ((0, 1, 1), (0, 1, 1, 7)) with AIC: 7150.02\n",
      "\n",
      "Processing route 19/100: 36_41\n",
      "  Best SARIMAX model for 36_41 has order ((1, 1, 1), (1, 1, 1, 7)) with AIC: 10222.09\n",
      "\n",
      "Processing route 20/100: 36_37\n",
      "  Best SARIMAX model for 36_37 has order ((1, 1, 1), (1, 1, 1, 7)) with AIC: 7985.28\n",
      "\n",
      "Processing route 21/100: 36_27\n",
      "  Best SARIMAX model for 36_27 has order ((1, 1, 1), (1, 1, 1, 7)) with AIC: 9665.89\n",
      "\n",
      "Processing route 22/100: 36_22\n",
      "  Best SARIMAX model for 36_22 has order ((1, 1, 1), (1, 1, 1, 7)) with AIC: 9670.56\n",
      "\n",
      "Processing route 23/100: 45_46\n",
      "  Best SARIMAX model for 45_46 has order ((1, 1, 1), (1, 1, 1, 7)) with AIC: 10596.56\n",
      "\n",
      "Processing route 24/100: 45_48\n",
      "  Best SARIMAX model for 45_48 has order ((1, 1, 1), (1, 1, 1, 7)) with AIC: 9674.38\n",
      "\n",
      "Processing route 25/100: 46_09\n",
      "  Best SARIMAX model for 46_09 has order ((1, 1, 1), (1, 1, 1, 7)) with AIC: 11009.21\n",
      "\n",
      "Processing route 26/100: 46_15\n",
      "  Best SARIMAX model for 46_15 has order ((1, 1, 1), (1, 1, 1, 7)) with AIC: 9998.66\n",
      "\n",
      "Processing route 27/100: 48_46\n",
      "  Best SARIMAX model for 48_46 has order ((0, 1, 1), (0, 1, 1, 7)) with AIC: 11023.82\n",
      "\n",
      "Processing route 28/100: 48_45\n",
      "  Best SARIMAX model for 48_45 has order ((0, 1, 1), (0, 1, 1, 7)) with AIC: 9733.36\n",
      "\n",
      "Processing route 29/100: 47_46\n",
      "  Best SARIMAX model for 47_46 has order ((1, 1, 1), (1, 1, 1, 7)) with AIC: 9721.98\n",
      "\n",
      "Processing route 30/100: 47_45\n",
      "  Best SARIMAX model for 47_45 has order ((1, 1, 1), (1, 1, 1, 7)) with AIC: 10473.95\n",
      "\n",
      "Processing route 31/100: 47_43\n",
      "  Best SARIMAX model for 47_43 has order ((1, 1, 1), (1, 1, 1, 7)) with AIC: 10153.86\n",
      "\n",
      "Processing route 32/100: 47_30\n",
      "  Best SARIMAX model for 47_30 has order ((1, 1, 1), (1, 1, 1, 7)) with AIC: 9317.09\n",
      "\n",
      "Processing route 33/100: 47_28\n",
      "  Best SARIMAX model for 47_28 has order ((1, 1, 1), (1, 1, 1, 7)) with AIC: 9762.71\n",
      "\n",
      "Processing route 34/100: 47_10\n",
      "  Best SARIMAX model for 47_10 has order ((1, 1, 1), (1, 1, 1, 7)) with AIC: 9127.71\n",
      "\n",
      "Processing route 35/100: 47_08\n",
      "  Best SARIMAX model for 47_08 has order ((1, 1, 1), (1, 1, 1, 7)) with AIC: 9523.41\n",
      "\n",
      "Processing route 36/100: 47_06\n",
      "  Best SARIMAX model for 47_06 has order ((1, 1, 1), (1, 1, 1, 7)) with AIC: 9548.16\n",
      "\n",
      "Processing route 37/100: 36_12\n",
      "  Best SARIMAX model for 36_12 has order ((1, 1, 1), (1, 1, 1, 7)) with AIC: 10051.61\n",
      "\n",
      "Processing route 38/100: 47_05\n",
      "  Best SARIMAX model for 47_05 has order ((1, 1, 1), (1, 1, 1, 7)) with AIC: 10553.11\n",
      "\n",
      "Processing route 39/100: 47_02\n",
      "  Best SARIMAX model for 47_02 has order ((1, 1, 1), (1, 1, 1, 7)) with AIC: 9729.30\n",
      "\n",
      "Processing route 40/100: 46_48\n",
      "  Best SARIMAX model for 46_48 has order ((1, 1, 1), (1, 1, 1, 7)) with AIC: 11031.89\n",
      "\n",
      "Processing route 41/100: 46_47\n",
      "  Best SARIMAX model for 46_47 has order ((1, 1, 1), (1, 1, 1, 7)) with AIC: 9715.91\n",
      "\n",
      "Processing route 42/100: 46_45\n",
      "  Best SARIMAX model for 46_45 has order ((1, 1, 1), (1, 1, 1, 7)) with AIC: 10595.08\n",
      "\n",
      "Processing route 43/100: 46_44\n",
      "  Best SARIMAX model for 46_44 has order ((1, 1, 1), (1, 1, 1, 7)) with AIC: 10696.54\n",
      "\n",
      "Processing route 44/100: 46_35\n",
      "  Best SARIMAX model for 46_35 has order ((1, 1, 1), (1, 1, 1, 7)) with AIC: 10780.42\n",
      "\n",
      "Processing route 45/100: 46_33\n",
      "  Best SARIMAX model for 46_33 has order ((1, 1, 1), (1, 1, 1, 7)) with AIC: 10005.92\n",
      "\n",
      "Processing route 46/100: 46_26\n",
      "  Best SARIMAX model for 46_26 has order ((1, 1, 1), (1, 1, 1, 7)) with AIC: 9341.81\n",
      "\n",
      "Processing route 47/100: 46_20\n",
      "  Best SARIMAX model for 46_20 has order ((1, 1, 1), (1, 1, 1, 7)) with AIC: 9736.22\n",
      "\n",
      "Processing route 48/100: 46_18\n",
      "  Best SARIMAX model for 46_18 has order ((1, 1, 1), (1, 1, 1, 7)) with AIC: 9949.51\n",
      "\n",
      "Processing route 49/100: 47_03\n",
      "  Best SARIMAX model for 47_03 has order ((1, 1, 1), (1, 1, 1, 7)) with AIC: 9653.95\n",
      "\n",
      "Processing route 50/100: 36_11\n",
      "  Best SARIMAX model for 36_11 has order ((1, 1, 1), (1, 1, 1, 7)) with AIC: 10548.15\n",
      "\n",
      "Processing route 51/100: 45_47\n",
      "  Best SARIMAX model for 45_47 has order ((1, 1, 1), (1, 1, 1, 7)) with AIC: 10619.13\n",
      "\n",
      "Processing route 52/100: 35_46\n",
      "  Best SARIMAX model for 35_46 has order ((1, 1, 1), (1, 1, 1, 7)) with AIC: 10749.33\n",
      "\n",
      "Processing route 53/100: 12_36\n",
      "  Best SARIMAX model for 12_36 has order ((1, 1, 1), (1, 1, 1, 7)) with AIC: 10331.68\n",
      "\n",
      "Processing route 54/100: 11_36\n",
      "  Best SARIMAX model for 11_36 has order ((1, 1, 1), (1, 1, 1, 7)) with AIC: 10200.28\n",
      "\n",
      "Processing route 55/100: 09_46\n",
      "  Best SARIMAX model for 09_46 has order ((1, 1, 1), (1, 1, 1, 7)) with AIC: 10973.54\n",
      "\n",
      "Processing route 56/100: 09_45\n",
      "  Best SARIMAX model for 09_45 has order ((1, 1, 1), (1, 1, 1, 7)) with AIC: 10258.66\n",
      "\n",
      "Processing route 57/100: 08_47\n",
      "  Best SARIMAX model for 08_47 has order ((1, 1, 1), (1, 1, 1, 7)) with AIC: 9724.93\n",
      "\n",
      "Processing route 58/100: 07_36\n",
      "  Best SARIMAX model for 07_36 has order ((1, 1, 1), (1, 1, 1, 7)) with AIC: 9729.15\n",
      "\n",
      "Processing route 59/100: 06_47\n",
      "  Best SARIMAX model for 06_47 has order ((1, 1, 1), (1, 1, 1, 7)) with AIC: 9589.17\n",
      "\n",
      "Processing route 60/100: 05_47\n",
      "  Best SARIMAX model for 05_47 has order ((0, 1, 1), (0, 1, 1, 7)) with AIC: 10675.91\n",
      "\n",
      "Processing route 61/100: 05_45\n",
      "  Best SARIMAX model for 05_45 has order ((1, 1, 1), (1, 1, 1, 7)) with AIC: 9770.43\n",
      "\n",
      "Processing route 62/100: 03_47\n",
      "  Best SARIMAX model for 03_47 has order ((1, 1, 1), (1, 1, 1, 7)) with AIC: 9592.00\n",
      "\n",
      "Processing route 63/100: 13_23\n",
      "  Best SARIMAX model for 13_23 has order ((1, 1, 1), (1, 1, 1, 7)) with AIC: 10083.06\n",
      "\n",
      "Processing route 64/100: 03_45\n",
      "  Best SARIMAX model for 03_45 has order ((1, 1, 1), (1, 1, 1, 7)) with AIC: 9590.71\n",
      "\n",
      "Processing route 65/100: 02_40\n",
      "  Best SARIMAX model for 02_40 has order ((1, 1, 1), (1, 1, 1, 7)) with AIC: 10271.60\n",
      "\n",
      "Processing route 66/100: 02_31\n",
      "  Best SARIMAX model for 02_31 has order ((1, 1, 1), (1, 1, 1, 7)) with AIC: 10142.75\n",
      "\n",
      "Processing route 67/100: 02_30\n",
      "  Best SARIMAX model for 02_30 has order ((1, 1, 1), (1, 1, 1, 7)) with AIC: 10212.30\n",
      "\n",
      "Processing route 68/100: 02_24\n",
      "  Best SARIMAX model for 02_24 has order ((1, 1, 1), (1, 1, 1, 7)) with AIC: 9435.12\n",
      "\n",
      "Processing route 69/100: 02_21\n",
      "  Best SARIMAX model for 02_21 has order ((0, 1, 1), (0, 1, 1, 7)) with AIC: 9666.43\n",
      "\n",
      "Processing route 70/100: 02_19\n",
      "  Best SARIMAX model for 02_19 has order ((1, 1, 1), (1, 1, 1, 7)) with AIC: 9768.45\n",
      "\n",
      "Processing route 71/100: 02_16\n",
      "  Best SARIMAX model for 02_16 has order ((1, 1, 1), (1, 1, 1, 7)) with AIC: 9738.28\n",
      "\n",
      "Processing route 72/100: 02_14\n",
      "  Best SARIMAX model for 02_14 has order ((1, 1, 1), (1, 1, 1, 7)) with AIC: 9952.27\n",
      "\n",
      "Processing route 73/100: 02_01\n",
      "  Best SARIMAX model for 02_01 has order ((1, 1, 1), (1, 1, 1, 7)) with AIC: 9109.70\n",
      "\n",
      "Processing route 74/100: 36_07\n",
      "  Best SARIMAX model for 36_07 has order ((1, 1, 1), (1, 1, 1, 7)) with AIC: 9708.88\n",
      "\n",
      "Processing route 75/100: 02_47\n",
      "  Best SARIMAX model for 02_47 has order ((1, 1, 1), (1, 1, 1, 7)) with AIC: 9737.76\n",
      "\n",
      "Processing route 76/100: 14_30\n",
      "  Best SARIMAX model for 14_30 has order ((1, 1, 1), (1, 1, 1, 7)) with AIC: 9892.22\n",
      "\n",
      "Processing route 77/100: 04_29\n",
      "  Best SARIMAX model for 04_29 has order ((1, 1, 1), (1, 1, 1, 7)) with AIC: 9281.44\n",
      "\n",
      "Processing route 78/100: 34_45\n",
      "  Best SARIMAX model for 34_45 has order ((1, 1, 1), (1, 1, 1, 7)) with AIC: 10255.54\n",
      "\n",
      "Processing route 79/100: 15_46\n",
      "  Best SARIMAX model for 15_46 has order ((1, 1, 1), (1, 1, 1, 7)) with AIC: 9772.03\n",
      "\n",
      "Processing route 80/100: 33_46\n",
      "  Best SARIMAX model for 33_46 has order ((1, 1, 1), (1, 1, 1, 7)) with AIC: 10056.72\n",
      "\n",
      "Processing route 81/100: 32_19\n",
      "  Best SARIMAX model for 32_19 has order ((1, 1, 1), (1, 1, 1, 7)) with AIC: 9847.59\n",
      "\n",
      "Processing route 82/100: 31_02\n",
      "  Best SARIMAX model for 31_02 has order ((1, 1, 1), (1, 1, 1, 7)) with AIC: 10254.93\n",
      "\n",
      "Processing route 83/100: 30_14\n",
      "  Best SARIMAX model for 30_14 has order ((1, 1, 1), (1, 1, 1, 7)) with AIC: 9656.13\n",
      "\n",
      "Processing route 84/100: 30_02\n",
      "  Best SARIMAX model for 30_02 has order ((1, 1, 1), (1, 1, 1, 7)) with AIC: 9976.09\n",
      "\n",
      "Processing route 85/100: 28_47\n",
      "  Best SARIMAX model for 28_47 has order ((1, 1, 1), (1, 1, 1, 7)) with AIC: 9738.15\n",
      "\n",
      "Processing route 86/100: 27_36\n",
      "  Best SARIMAX model for 27_36 has order ((1, 1, 1), (1, 1, 1, 7)) with AIC: 9562.17\n",
      "\n",
      "Processing route 87/100: 26_46\n",
      "  Best SARIMAX model for 26_46 has order ((1, 1, 1), (1, 1, 1, 7)) with AIC: 9363.54\n",
      "\n",
      "Processing route 88/100: 25_23\n",
      "  Best SARIMAX model for 25_23 has order ((1, 1, 1), (1, 1, 1, 7)) with AIC: 10218.51\n",
      "\n",
      "Processing route 89/100: 23_25\n",
      "  Best SARIMAX model for 23_25 has order ((1, 1, 1), (1, 1, 1, 7)) with AIC: 10393.79\n",
      "\n",
      "Processing route 90/100: 28_45\n",
      "  Best SARIMAX model for 28_45 has order ((1, 1, 1), (1, 1, 1, 7)) with AIC: 9853.85\n",
      "\n",
      "Processing route 91/100: 16_02\n",
      "  Best SARIMAX model for 16_02 has order ((1, 1, 1), (1, 1, 1, 7)) with AIC: 9858.64\n",
      "\n",
      "Processing route 92/100: 22_36\n",
      "  Best SARIMAX model for 22_36 has order ((1, 1, 1), (1, 1, 1, 7)) with AIC: 9516.72\n",
      "\n",
      "Processing route 93/100: 21_02\n",
      "  Best SARIMAX model for 21_02 has order ((1, 1, 1), (1, 1, 1, 7)) with AIC: 9590.29\n",
      "\n",
      "Processing route 94/100: 20_46\n",
      "  Best SARIMAX model for 20_46 has order ((1, 1, 1), (1, 1, 1, 7)) with AIC: 9613.59\n",
      "\n",
      "Processing route 95/100: 19_32\n",
      "  Best SARIMAX model for 19_32 has order ((1, 1, 1), (1, 1, 1, 7)) with AIC: 10046.65\n",
      "\n",
      "Processing route 96/100: 19_30\n",
      "  Best SARIMAX model for 19_30 has order ((1, 1, 1), (1, 1, 1, 7)) with AIC: 9509.67\n",
      "\n",
      "Processing route 97/100: 19_02\n",
      "  Best SARIMAX model for 19_02 has order ((1, 1, 1), (1, 1, 1, 7)) with AIC: 9769.18\n",
      "\n",
      "Processing route 98/100: 18_46\n",
      "  Best SARIMAX model for 18_46 has order ((1, 1, 1), (1, 1, 1, 7)) with AIC: 9892.30\n",
      "\n",
      "Processing route 99/100: 17_23\n",
      "  Best SARIMAX model for 17_23 has order ((1, 1, 1), (1, 1, 1, 7)) with AIC: 9304.87\n",
      "\n",
      "Processing route 100/100: 23_13\n",
      "  Best SARIMAX model for 23_13 has order ((1, 1, 1), (1, 1, 1, 7)) with AIC: 10133.59\n",
      "\n",
      "Final SARIMAX Predictions for the next 60 days (first 5 rows):\n",
      "| doj                 | predicted_final_seatcount   | route_id   |\n",
      "|:--------------------|:----------------------------|:-----------|\n",
      "| 2025-01-01 00:00:00 | 1282.28                     | 01_02      |\n",
      "| 2025-01-02 00:00:00 | 1244.42                     | 01_02      |\n",
      "| 2025-01-03 00:00:00 | 1365.4                      | 01_02      |\n",
      "| 2025-01-04 00:00:00 | 1370.34                     | 01_02      |\n",
      "| 2025-01-05 00:00:00 | 1668.59                     | 01_02      |\n",
      "<class 'pandas.core.frame.DataFrame'>\n",
      "RangeIndex: 6000 entries, 0 to 5999\n",
      "Data columns (total 3 columns):\n",
      " #   Column                     Non-Null Count  Dtype         \n",
      "---  ------                     --------------  -----         \n",
      " 0   doj                        6000 non-null   datetime64[ns]\n",
      " 1   predicted_final_seatcount  6000 non-null   float64       \n",
      " 2   route_id                   6000 non-null   object        \n",
      "dtypes: datetime64[ns](1), float64(1), object(1)\n",
      "memory usage: 140.8+ KB\n",
      "None\n"
     ]
    }
   ],
   "source": [
    "import pandas as pd\n",
    "from statsmodels.tsa.statespace.sarimax import SARIMAX\n",
    "import warnings\n",
    "import numpy as np\n",
    "\n",
    "warnings.filterwarnings(\"ignore\") # Suppress convergence warnings\n",
    "\n",
    "# 1. Load the data\n",
    "df = pd.read_csv('train/train.csv')\n",
    "\n",
    "# 2. Convert 'doj' to datetime and create route_id\n",
    "df['doj'] = pd.to_datetime(df['doj'])\n",
    "df['route_id'] = df['srcid'].astype(str).str.zfill(2) + '_' + df['destid'].astype(str).str.zfill(2)\n",
    "\n",
    "# 3. Aggregate final_seatcount by doj and route_id\n",
    "df_agg = df.groupby(['doj', 'route_id'])['final_seatcount'].sum().reset_index()\n",
    "\n",
    "# Sort by date for time series modeling\n",
    "df_agg = df_agg.sort_values(by='doj')\n",
    "\n",
    "unique_routes = df_agg['route_id'].unique()\n",
    "all_sarimax_predictions = []\n",
    "\n",
    "# Define a set of SARIMAX parameter combinations to try for each route\n",
    "# (p,d,q) and (P,D,Q,s)\n",
    "sarimax_orders = [\n",
    "    ((1, 1, 1), (1, 1, 1, 7)), # General ARMA with differencing and seasonality\n",
    "    ((0, 1, 1), (0, 1, 1, 7)), # Differenced MA with seasonal MA\n",
    "    ((1, 1, 0), (1, 1, 0, 7)), # Differenced AR with seasonal AR\n",
    "    ((1, 0, 0), (1, 0, 0, 7)), # Simple AR with seasonal AR (no differencing)\n",
    "    ((0, 0, 0), (0, 0, 0, 0))  # Baseline (white noise, no seasonality/trend)\n",
    "]\n",
    "\n",
    "print(f\"Starting SARIMAX forecasting with parameter search for {len(unique_routes)} routes. This may take a while...\")\n",
    "\n",
    "for i, route_id in enumerate(unique_routes):\n",
    "    print(f\"\\nProcessing route {i+1}/{len(unique_routes)}: {route_id}\")\n",
    "\n",
    "    # Filter data for the current route\n",
    "    route_df = df_agg[df_agg['route_id'] == route_id].copy()\n",
    "    route_df.set_index('doj', inplace=True)\n",
    "\n",
    "    # Ensure the series is continuous for SARIMAX (fill missing dates if any)\n",
    "    # Reindex to a daily frequency and fill NaNs with 0 (or a more suitable imputation if known)\n",
    "    idx = pd.date_range(start=route_df.index.min(), end=route_df.index.max(), freq='D')\n",
    "    route_df = route_df.reindex(idx)\n",
    "    route_df['final_seatcount'] = route_df['final_seatcount'].fillna(0) # Filling missing daily counts with 0\n",
    "\n",
    "\n",
    "    best_aic = np.inf\n",
    "    best_model_fit = None\n",
    "    best_order = None\n",
    "\n",
    "    # Iterate through SARIMAX parameter combinations\n",
    "    for order, seasonal_order in sarimax_orders:\n",
    "        try:\n",
    "            temp_model = SARIMAX(\n",
    "                route_df['final_seatcount'],\n",
    "                order=order,\n",
    "                seasonal_order=seasonal_order,\n",
    "                enforce_stationarity=False,\n",
    "                enforce_invertibility=False,\n",
    "                freq='D' # Specify frequency for SARIMAX\n",
    "            )\n",
    "            temp_fit = temp_model.fit(disp=False, maxiter=50) # Limit iterations to prevent long runs\n",
    "            if temp_fit.aic < best_aic:\n",
    "                best_aic = temp_fit.aic\n",
    "                best_model_fit = temp_fit\n",
    "                best_order = (order, seasonal_order)\n",
    "            # print(f\"    Tried Order {order}x{seasonal_order} - AIC: {temp_fit.aic:.2f}\")\n",
    "\n",
    "        except Exception as e:\n",
    "            # print(f\"    Failed to fit Order {order}x{seasonal_order}: {e}\")\n",
    "            continue # Try next combination\n",
    "\n",
    "    if best_model_fit is None:\n",
    "        print(f\"  Could not find a suitable SARIMAX model for route {route_id} with tested parameters.\")\n",
    "        # If no model could be fitted, append placeholder predictions\n",
    "        future_dates_error = pd.date_range(start=route_df.index.max() + pd.Timedelta(days=1), periods=60)\n",
    "        error_df = pd.DataFrame({\n",
    "            'doj': future_dates_error,\n",
    "            'predicted_final_seatcount': 0, # Assign 0 for routes with errors\n",
    "            'route_id': route_id\n",
    "        })\n",
    "        all_sarimax_predictions.append(error_df)\n",
    "        continue\n",
    "\n",
    "    print(f\"  Best SARIMAX model for {route_id} has order {best_order} with AIC: {best_aic:.2f}\")\n",
    "\n",
    "    # Predict the next 60 days using the best model\n",
    "    forecast_steps = 60\n",
    "    forecast = best_model_fit.predict(start=len(route_df), end=len(route_df) + forecast_steps - 1)\n",
    "\n",
    "    # Create a DataFrame for predictions\n",
    "    future_dates = pd.date_range(start=route_df.index.max() + pd.Timedelta(days=1), periods=forecast_steps)\n",
    "    predictions_df = pd.DataFrame({\n",
    "        'doj': future_dates,\n",
    "        'predicted_final_seatcount': forecast.values,\n",
    "        'route_id': route_id\n",
    "    })\n",
    "\n",
    "    # Ensure predictions are non-negative\n",
    "    predictions_df['predicted_final_seatcount'] = predictions_df['predicted_final_seatcount'].apply(lambda x: max(0, x))\n",
    "\n",
    "    all_sarimax_predictions.append(predictions_df)\n",
    "\n",
    "# Concatenate all predictions into a single DataFrame\n",
    "final_sarimax_predictions_df = pd.concat(all_sarimax_predictions).reset_index(drop=True)\n",
    "\n",
    "# Display the first 5 rows of the final predictions DataFrame\n",
    "print(\"\\nFinal SARIMAX Predictions for the next 60 days (first 5 rows):\")\n",
    "print(final_sarimax_predictions_df.head().to_markdown(index=False, numalign=\"left\", stralign=\"left\"))\n",
    "\n",
    "# Display info about the predictions DataFrame\n",
    "print(final_sarimax_predictions_df.info())"
   ]
  },
  {
   "cell_type": "code",
   "execution_count": 201,
   "id": "2e2407d4",
   "metadata": {},
   "outputs": [
    {
     "data": {
      "text/html": [
       "<div>\n",
       "<style scoped>\n",
       "    .dataframe tbody tr th:only-of-type {\n",
       "        vertical-align: middle;\n",
       "    }\n",
       "\n",
       "    .dataframe tbody tr th {\n",
       "        vertical-align: top;\n",
       "    }\n",
       "\n",
       "    .dataframe thead th {\n",
       "        text-align: right;\n",
       "    }\n",
       "</style>\n",
       "<table border=\"1\" class=\"dataframe\">\n",
       "  <thead>\n",
       "    <tr style=\"text-align: right;\">\n",
       "      <th></th>\n",
       "      <th>ds</th>\n",
       "      <th>predicted_final_seatcount</th>\n",
       "      <th>route_id</th>\n",
       "    </tr>\n",
       "  </thead>\n",
       "  <tbody>\n",
       "    <tr>\n",
       "      <th>0</th>\n",
       "      <td>2025-01-01</td>\n",
       "      <td>1282.275836</td>\n",
       "      <td>01_02</td>\n",
       "    </tr>\n",
       "    <tr>\n",
       "      <th>1</th>\n",
       "      <td>2025-01-02</td>\n",
       "      <td>1244.416085</td>\n",
       "      <td>01_02</td>\n",
       "    </tr>\n",
       "    <tr>\n",
       "      <th>2</th>\n",
       "      <td>2025-01-03</td>\n",
       "      <td>1365.402758</td>\n",
       "      <td>01_02</td>\n",
       "    </tr>\n",
       "    <tr>\n",
       "      <th>3</th>\n",
       "      <td>2025-01-04</td>\n",
       "      <td>1370.342316</td>\n",
       "      <td>01_02</td>\n",
       "    </tr>\n",
       "    <tr>\n",
       "      <th>4</th>\n",
       "      <td>2025-01-05</td>\n",
       "      <td>1668.594325</td>\n",
       "      <td>01_02</td>\n",
       "    </tr>\n",
       "  </tbody>\n",
       "</table>\n",
       "</div>"
      ],
      "text/plain": [
       "          ds  predicted_final_seatcount route_id\n",
       "0 2025-01-01                1282.275836    01_02\n",
       "1 2025-01-02                1244.416085    01_02\n",
       "2 2025-01-03                1365.402758    01_02\n",
       "3 2025-01-04                1370.342316    01_02\n",
       "4 2025-01-05                1668.594325    01_02"
      ]
     },
     "execution_count": 201,
     "metadata": {},
     "output_type": "execute_result"
    }
   ],
   "source": [
    "final_sarimax_predictions_df.head()"
   ]
  },
  {
   "cell_type": "code",
   "execution_count": 202,
   "id": "0bf8ddb9",
   "metadata": {},
   "outputs": [],
   "source": [
    "final_sarimax_predictions_df = final_sarimax_predictions_df.rename({\"doj\":\"ds\",\"predicted_final_seatcount\":\"final_seatcount\"},axis=1)"
   ]
  },
  {
   "cell_type": "code",
   "execution_count": 203,
   "id": "a2733486",
   "metadata": {},
   "outputs": [],
   "source": [
    "final_submission = final_sarimax_predictions_df[final_sarimax_predictions_df[\"ds\"]>\"2024-12-31\"]\n",
    "final_submission = final_submission[final_submission[\"ds\"]< \"2025-03-01\"]\n",
    "final_submission = final_submission.rename({\"yhat\":\"final_seatcount\"},axis=1)\n",
    "final_submission[\"route_key\"] = final_submission['ds'].astype(str)+\"_\"+final_submission[\"route_id\"].astype(str)\n",
    "final_submission = final_submission[[\"route_key\",\"final_seatcount\"]]\n",
    "final_submission[\"final_seatcount\"] = final_submission.final_seatcount.round()\n",
    "final_submission.to_csv(\"final_submission.csv\",index=False)"
   ]
  },
  {
   "cell_type": "code",
   "execution_count": null,
   "id": "ab9245fb",
   "metadata": {},
   "outputs": [],
   "source": []
  }
 ],
 "metadata": {
  "kernelspec": {
   "display_name": "venv",
   "language": "python",
   "name": "python3"
  },
  "language_info": {
   "codemirror_mode": {
    "name": "ipython",
    "version": 3
   },
   "file_extension": ".py",
   "mimetype": "text/x-python",
   "name": "python",
   "nbconvert_exporter": "python",
   "pygments_lexer": "ipython3",
   "version": "3.11.7"
  }
 },
 "nbformat": 4,
 "nbformat_minor": 5
}
